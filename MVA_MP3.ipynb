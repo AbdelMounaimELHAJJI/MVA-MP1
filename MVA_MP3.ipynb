{
 "cells": [
  {
   "cell_type": "markdown",
   "metadata": {},
   "source": [
    "**You may need to install [OpenCV](https://pypi.python.org/pypi/opencv-python) and [scikit-video](http://www.scikit-video.org/stable/).**"
   ]
  },
  {
   "cell_type": "code",
   "execution_count": 28,
   "metadata": {},
   "outputs": [],
   "source": [
    "import tensorflow"
   ]
  },
  {
   "cell_type": "code",
   "execution_count": 2,
   "metadata": {},
   "outputs": [
    {
     "name": "stderr",
     "output_type": "stream",
     "text": [
      "Using TensorFlow backend.\n"
     ]
    }
   ],
   "source": [
    "import keras\n",
    "import numpy as np\n",
    "import io\n",
    "import base64\n",
    "from IPython.display import HTML\n",
    "import skvideo.io\n",
    "import cv2\n",
    "import json\n",
    "\n",
    "from keras.models import Sequential,model_from_json\n",
    "from keras.layers.core import Dense\n",
    "from keras.optimizers import sgd\n",
    "from keras.layers import Conv2D, MaxPooling2D, Activation, AveragePooling2D,Reshape,BatchNormalization , Flatten"
   ]
  },
  {
   "cell_type": "markdown",
   "metadata": {},
   "source": [
    "# MiniProject #3: Deep Reinforcement Learning"
   ]
  },
  {
   "cell_type": "markdown",
   "metadata": {},
   "source": [
    "__Notations__: $E_p$ is the expectation under probability $p$. Please justify each of your answer and widely comment your code."
   ]
  },
  {
   "cell_type": "markdown",
   "metadata": {},
   "source": [
    "# Context"
   ]
  },
  {
   "cell_type": "markdown",
   "metadata": {},
   "source": [
    "In a reinforcement learning algorithm, we modelize each step $t$ as an action $a_t$ obtained from a state $s_t$, i.e. $\\{(a_{t},s_{t})_{t\\leq T}\\}$ having the Markov property. We consider a discount factor $\\gamma \\in [0,1]$ that ensures convergence. The goal is to find among all the policies $\\pi$, one that maximizes the expected reward:\n",
    "\n",
    "\\begin{equation*}\n",
    "R(\\pi)=\\sum_{t\\leq T}E_{p^{\\pi}}[\\gamma^t r(s_{t},a_{t})] \\> ,\n",
    "\\end{equation*}\n",
    "\n",
    "where: \n",
    "\\begin{equation*}p^{\\pi}(a_{0},a_{1},s_{1},...,a_{T},s_{T})=p(a_{0})\\prod_{t=1}^{T}\\pi(a_{t}|s_{t})p(s_{t+1}|s_{t},a_{t}) \\> .\n",
    "\\end{equation*}\n",
    "\n",
    "We note the $Q$-function:\n",
    "\n",
    "\\begin{equation*}Q^\\pi(s,a)=E_{p^{\\pi}}[\\sum_{t\\leq T}\\gamma^{t}r(s_{t},a_{t})|s_{0}=s,a_{0}=a] \\> .\n",
    "\\end{equation*}\n",
    "\n",
    "Thus, the optimal Q function is:\n",
    "\\begin{equation*}\n",
    "Q^*(s,a)=\\max_{\\pi}Q^\\pi(s,a) \\> .\n",
    "\\end{equation*}\n",
    "\n",
    "In this project, we will apply the deep reinforcement learning techniques to a simple game: an agent will have to learn from scratch a policy that will permit it maximizing a reward."
   ]
  },
  {
   "cell_type": "markdown",
   "metadata": {},
   "source": [
    "## The environment, the agent and the game"
   ]
  },
  {
   "cell_type": "markdown",
   "metadata": {},
   "source": [
    "### The environment"
   ]
  },
  {
   "cell_type": "markdown",
   "metadata": {},
   "source": [
    "```Environment``` is an abstract class that represents the states, rewards, and actions to obtain the new state."
   ]
  },
  {
   "cell_type": "code",
   "execution_count": 3,
   "metadata": {},
   "outputs": [],
   "source": [
    "class Environment(object):\n",
    "    def __init__(self):\n",
    "        pass\n",
    "\n",
    "    def act(self, act):\n",
    "        \"\"\"\n",
    "        One can act on the environment and obtain its reaction:\n",
    "        - the new state\n",
    "        - the reward of the new state\n",
    "        - should we continue the game?\n",
    "\n",
    "        :return: state, reward, game_over\n",
    "        \"\"\"\n",
    "        pass\n",
    "\n",
    "\n",
    "    def reset(self):\n",
    "        \"\"\"\n",
    "        Reinitialize the environment to a random state and returns\n",
    "        the original state\n",
    "\n",
    "        :return: state\n",
    "        \"\"\"\n",
    "        pass\n",
    "    \n",
    "    def draw(self):\n",
    "        \"\"\"\n",
    "        Visualize in the console or graphically the current state\n",
    "        \"\"\"\n",
    "        pass"
   ]
  },
  {
   "cell_type": "markdown",
   "metadata": {},
   "source": [
    "The method ```act``` allows to act on the environment at a given state $s_t$ (stored internally), via action $a_t$. The method will return the new state $s_{t+1}$, the reward $r(s_{t},a_{t})$ and determines if $t\\leq T$ (*game_over*).\n",
    "\n",
    "The method ```reset``` simply reinitializes the environment to a random state $s_0$.\n",
    "\n",
    "The method ```draw``` displays the current state $s_t$ (this is useful to check the behavior of the Agent).\n",
    "\n",
    "We modelize $s_t$ as a tensor, while $a_t$ is an integer."
   ]
  },
  {
   "cell_type": "markdown",
   "metadata": {},
   "source": [
    "### The Agent"
   ]
  },
  {
   "cell_type": "markdown",
   "metadata": {},
   "source": [
    "The goal of the ```Agent``` is to interact with the ```Environment``` by proposing actions $a_t$ obtained from a given state $s_t$ to attempt to maximize its __reward__ $r(s_t,a_t)$. We propose the following abstract class:"
   ]
  },
  {
   "cell_type": "code",
   "execution_count": 4,
   "metadata": {},
   "outputs": [],
   "source": [
    "class Agent(object):\n",
    "    def __init__(self, epsilon=0.1, n_action=4):\n",
    "        self.epsilon = epsilon\n",
    "        self.n_action = n_action\n",
    "    \n",
    "    def set_epsilon(self,e):\n",
    "        self.epsilon = e\n",
    "\n",
    "    def act(self,s,train=True):\n",
    "        \"\"\" This function should return the next action to do:\n",
    "        an integer between 0 and 4 (not included) with a random exploration of epsilon\"\"\"\n",
    "        if train:\n",
    "            if np.random.rand() <= self.epsilon:\n",
    "                a = np.random.randint(0, self.n_action, size=1)[0]\n",
    "            else:\n",
    "                a = self.learned_act(s)\n",
    "        else: # in some cases, this can improve the performance.. remove it if poor performances\n",
    "            a = self.learned_act(s)\n",
    "\n",
    "        return a\n",
    "\n",
    "    def learned_act(self,s):\n",
    "        \"\"\" Act via the policy of the agent, from a given state s\n",
    "        it proposes an action a\"\"\"\n",
    "        pass\n",
    "\n",
    "    def reinforce(self, s, n_s, a, r, game_over_):\n",
    "        \"\"\" This function is the core of the learning algorithm. \n",
    "        It takes as an input the current state s_, the next state n_s_\n",
    "        the action a_ used to move from s_ to n_s_ and the reward r_.\n",
    "        \n",
    "        Its goal is to learn a policy.\n",
    "        \"\"\"\n",
    "        pass\n",
    "\n",
    "    def save(self):\n",
    "        \"\"\" This function returns basic stats if applicable: the\n",
    "        loss and/or the model\"\"\"\n",
    "        pass\n",
    "\n",
    "    def load(self):\n",
    "        \"\"\" This function allows to restore a model\"\"\"\n",
    "        pass"
   ]
  },
  {
   "cell_type": "markdown",
   "metadata": {},
   "source": [
    "***\n",
    "__Question 1__:\n",
    "Explain the function act. Why is ```epsilon``` essential?"
   ]
  },
  {
   "cell_type": "markdown",
   "metadata": {},
   "source": [
    "**Act**: une fonction qui retourne l'action que l'agent doit exécuter pour avancer dans le jeu. Il fera une action similaire au modèle d'apprentissage avec une probabilité 1-epsilon ou une action complétement aléatoire avec une probabilité epsilon.\n",
    "\n",
    "**Epsilon**: est essentiel pour permettre à l'agent d'explorer l'envirennement de la façon la plus performante et de faire de mieux en mieux des actions plus rentables au fur et à mesure qu'il avance dans le jeu. Si epsilon=0, l'agent va répeter toujours ce qu'il a appris et par conséquence il va rater des opportunités pour maximiser son reward."
   ]
  },
  {
   "cell_type": "markdown",
   "metadata": {},
   "source": [
    "***\n",
    "### The Game"
   ]
  },
  {
   "cell_type": "markdown",
   "metadata": {},
   "source": [
    "The ```Agent``` and the ```Environment``` work in an interlaced way as in the following (take some time to understand this code as it is the core of the project)\n",
    "\n",
    "```python\n",
    "\n",
    "epoch = 300\n",
    "env = Environment()\n",
    "agent = Agent()\n",
    "\n",
    "\n",
    "# Number of won games\n",
    "score = 0\n",
    "loss = 0\n",
    "\n",
    "\n",
    "for e in range(epoch):\n",
    "    # At each epoch, we restart to a fresh game and get the initial state\n",
    "    state = env.reset()\n",
    "    # This assumes that the games will end\n",
    "    game_over = False\n",
    "\n",
    "    win = 0\n",
    "    lose = 0\n",
    "    \n",
    "    while not game_over:\n",
    "        # The agent performs an action\n",
    "        action = agent.act(state)\n",
    "\n",
    "        # Apply an action to the environment, get the next state, the reward\n",
    "        # and if the games end\n",
    "        prev_state = state\n",
    "        state, reward, game_over = env.act(action)\n",
    "\n",
    "        # Update the counters\n",
    "        if reward > 0:\n",
    "            win = win + reward\n",
    "        if reward < 0:\n",
    "            lose = lose -reward\n",
    "\n",
    "        # Apply the reinforcement strategy\n",
    "        loss = agent.reinforce(prev_state, state,  action, reward, game_over)\n",
    "\n",
    "    # Save as a mp4\n",
    "    if e % 10 == 0:\n",
    "        env.draw(e)\n",
    "\n",
    "    # Update stats\n",
    "    score += win-lose\n",
    "\n",
    "    print(\"Epoch {:03d}/{:03d} | Loss {:.4f} | Win/lose count {}/{} ({})\"\n",
    "          .format(e, epoch, loss, win, lose, win-lose))\n",
    "    agent.save()\n",
    "```"
   ]
  },
  {
   "cell_type": "markdown",
   "metadata": {},
   "source": [
    "# The game, *eat cheese*"
   ]
  },
  {
   "cell_type": "markdown",
   "metadata": {},
   "source": [
    "A rat runs on an island and tries to eat as much as possible. The island is subdivided into $N\\times N$ cells, in which there are cheese (+0.5) and poisonous cells (-1). The rat has a visibility of 2 cells (thus it can see $5^2$ cells). The rat is given a time $T$ to accumulate as much food as possible. It can perform 4 actions: going up, down, left, right. \n",
    "\n",
    "The goal is to code an agent to solve this task that will learn by trial and error. We propose the following environment:"
   ]
  },
  {
   "cell_type": "code",
   "execution_count": 5,
   "metadata": {},
   "outputs": [],
   "source": [
    "class Environment(object):\n",
    "    def __init__(self, grid_size=10, max_time=500, temperature=0.1):\n",
    "        grid_size = grid_size+4\n",
    "        self.grid_size = grid_size\n",
    "        self.max_time = max_time\n",
    "        self.temperature = temperature\n",
    "\n",
    "        #board on which one plays\n",
    "        self.board = np.zeros((grid_size,grid_size))\n",
    "        self.position = np.zeros((grid_size,grid_size))\n",
    "\n",
    "        # coordinate of the cat\n",
    "        self.x = 0\n",
    "        self.y = 1\n",
    "\n",
    "        # self time\n",
    "        self.t = 0\n",
    "\n",
    "        self.scale=16\n",
    "\n",
    "        self.to_draw = np.zeros((max_time+2, grid_size*self.scale, grid_size*self.scale, 3))\n",
    "\n",
    "\n",
    "    def draw(self,e):\n",
    "        skvideo.io.vwrite(str(e) + '.mp4', self.to_draw)\n",
    "\n",
    "    def get_frame(self,t):\n",
    "        b = np.zeros((self.grid_size,self.grid_size,3))+128\n",
    "        b[self.board>0,0] = 256\n",
    "        b[self.board < 0, 2] = 256\n",
    "        b[self.x,self.y,:]=256\n",
    "        b[-2:,:,:]=0\n",
    "        b[:,-2:,:]=0\n",
    "        b[:2,:,:]=0\n",
    "        b[:,:2,:]=0\n",
    "        \n",
    "        b =  cv2.resize(b, None, fx=self.scale, fy=self.scale, interpolation=cv2.INTER_NEAREST)\n",
    "\n",
    "        self.to_draw[t,:,:,:]=b\n",
    "\n",
    "\n",
    "    def act(self, action):\n",
    "        \"\"\"This function returns the new state, reward and decides if the\n",
    "        game ends.\"\"\"\n",
    "\n",
    "        self.get_frame(int(self.t))\n",
    "\n",
    "        self.position = np.zeros((self.grid_size, self.grid_size))\n",
    "\n",
    "        self.position[0:2,:]= -1\n",
    "        self.position[:,0:2] = -1\n",
    "        self.position[-2:, :] = -1\n",
    "        self.position[-2:, :] = -1\n",
    "\n",
    "        self.position[self.x, self.y] = 1\n",
    "        if action == 0:\n",
    "            if self.x == self.grid_size-3:\n",
    "                self.x = self.x-1\n",
    "            else:\n",
    "                self.x = self.x + 1\n",
    "        elif action == 1:\n",
    "            if self.x == 2:\n",
    "                self.x = self.x+1\n",
    "            else:\n",
    "                self.x = self.x-1\n",
    "        elif action == 2:\n",
    "            if self.y == self.grid_size - 3:\n",
    "                self.y = self.y - 1\n",
    "            else:\n",
    "                self.y = self.y + 1\n",
    "        elif action == 3:\n",
    "            if self.y == 2:\n",
    "                self.y = self.y + 1\n",
    "            else:\n",
    "                self.y = self.y - 1\n",
    "        else:\n",
    "            RuntimeError('Error: action not recognized')\n",
    "\n",
    "        self.t = self.t + 1\n",
    "        reward = self.board[self.x, self.y]\n",
    "        self.board[self.x, self.y] = 0\n",
    "        game_over = self.t > self.max_time\n",
    "        state = np.concatenate((self.board.reshape(self.grid_size, self.grid_size,1),\n",
    "                        self.position.reshape(self.grid_size, self.grid_size,1)),axis=2)\n",
    "        state = state[self.x-2:self.x+3,self.y-2:self.y+3,:]\n",
    "\n",
    "        return state, reward, game_over\n",
    "\n",
    "    def reset(self):\n",
    "        \"\"\"This function resets the game and returns the initial state\"\"\"\n",
    "\n",
    "        self.x = np.random.randint(3, self.grid_size-3, size=1)[0]\n",
    "        self.y = np.random.randint(3, self.grid_size-3, size=1)[0]\n",
    "\n",
    "\n",
    "        bonus = 0.5*np.random.binomial(1,self.temperature,size=self.grid_size**2)\n",
    "        bonus = bonus.reshape(self.grid_size,self.grid_size)\n",
    "\n",
    "        malus = -1.0*np.random.binomial(1,self.temperature,size=self.grid_size**2)\n",
    "        malus = malus.reshape(self.grid_size, self.grid_size)\n",
    "\n",
    "        self.to_draw = np.zeros((self.max_time+2, self.grid_size*self.scale, self.grid_size*self.scale, 3))\n",
    "\n",
    "\n",
    "        malus[bonus>0]=0\n",
    "\n",
    "        self.board = bonus + malus\n",
    "\n",
    "        self.position = np.zeros((self.grid_size, self.grid_size))\n",
    "        self.position[0:2,:]= -1\n",
    "        self.position[:,0:2] = -1\n",
    "        self.position[-2:, :] = -1\n",
    "        self.position[-2:, :] = -1\n",
    "        self.board[self.x,self.y] = 0\n",
    "        self.t = 0\n",
    "\n",
    "        state = np.concatenate((\n",
    "                               self.board.reshape(self.grid_size, self.grid_size,1),\n",
    "                        self.position.reshape(self.grid_size, self.grid_size,1)),axis=2)\n",
    "\n",
    "        state = state[self.x - 2:self.x + 3, self.y - 2:self.y + 3, :]\n",
    "        return state"
   ]
  },
  {
   "cell_type": "markdown",
   "metadata": {},
   "source": [
    "The following elements are important because they correspond to the hyper parameters for this project:"
   ]
  },
  {
   "cell_type": "code",
   "execution_count": 6,
   "metadata": {},
   "outputs": [],
   "source": [
    "# parameters\n",
    "size = 13\n",
    "T=200\n",
    "temperature=0.3\n",
    "epochs_train=50 # set small when debugging\n",
    "epochs_test=10 # set small when debugging\n",
    "\n",
    "# display videos\n",
    "def display_videos(name):\n",
    "    video = io.open(name, 'r+b').read()\n",
    "    encoded = base64.b64encode(video)\n",
    "    return '''<video alt=\"test\" controls>\n",
    "                <source src=\"data:video/mp4;base64,{0}\" type=\"video/mp4\" />\n",
    "             </video>'''.format(encoded.decode('ascii'))"
   ]
  },
  {
   "cell_type": "markdown",
   "metadata": {},
   "source": [
    "__Question 2__ Explain the use of the arrays ```position``` and ```board```."
   ]
  },
  {
   "cell_type": "markdown",
   "metadata": {},
   "source": [
    "L'array **position** est une matrice de zeros avec un 1 dans la ligne et la colonne qui correspondent à la position du rat.\n",
    "\n",
    "L'array **board** représente l'envirennement et donne l'emplacement des fromages. C'est une matrice de zeros avec 0.5 dans les corddonnées du fromage à manger et -1 dans les corddonnées du fromage empoisoné.\n"
   ]
  },
  {
   "cell_type": "markdown",
   "metadata": {},
   "source": [
    "## Random Agent"
   ]
  },
  {
   "cell_type": "markdown",
   "metadata": {},
   "source": [
    "***\n",
    "__Question 3__ Implement a random Agent (only ```learned_act``` needs to be implemented):"
   ]
  },
  {
   "cell_type": "code",
   "execution_count": 7,
   "metadata": {},
   "outputs": [],
   "source": [
    "class RandomAgent(Agent):\n",
    "    def __init__(self):\n",
    "        super(RandomAgent, self).__init__()\n",
    "        pass\n",
    "\n",
    "    def learned_act(self, s):\n",
    "        return np.random.choice(4)"
   ]
  },
  {
   "cell_type": "markdown",
   "metadata": {},
   "source": [
    "***\n",
    "***\n",
    "__Question 4__ Visualize the game moves. You need to fill in the following function for the evaluation:"
   ]
  },
  {
   "cell_type": "code",
   "execution_count": 9,
   "metadata": {},
   "outputs": [],
   "source": [
    "def test(agent,env,epochs,prefix=''):\n",
    "    # Number of won games\n",
    "    score = 0\n",
    "     \n",
    "    for e in range(epochs):\n",
    "    # At each epoch, we restart to a fresh game and get the initial state\n",
    "        state = env.reset()\n",
    "    # This assumes that the games will end\n",
    "        game_over = False\n",
    "\n",
    "        win = 0\n",
    "        lose = 0\n",
    "    \n",
    "        while not game_over:\n",
    "            # The agent performs an action\n",
    "            action = agent.act(state)\n",
    "\n",
    "            # Apply an action to the environment, get the next state, the reward\n",
    "            # and if the games end\n",
    "            prev_state = state\n",
    "            state, reward, game_over = env.act(action)\n",
    "\n",
    "            # Update the counters\n",
    "            if reward > 0:\n",
    "                win = win + reward\n",
    "            if reward < 0:\n",
    "                lose = lose -reward\n",
    "        \n",
    "        # Save as a mp4\n",
    "        env.draw(prefix+str(e))\n",
    "\n",
    "        # Update stats\n",
    "        score = score + win-lose\n",
    "\n",
    "        print(\"Win/lose count {}/{}. Average score ({})\"\n",
    "              .format(win, lose, score/(1+e)))\n",
    "    print('Final score: '+str(score/epochs))"
   ]
  },
  {
   "cell_type": "code",
   "execution_count": 10,
   "metadata": {
    "scrolled": true
   },
   "outputs": [
    {
     "name": "stdout",
     "output_type": "stream",
     "text": [
      "Win/lose count 7.5/11.0. Average score (-3.5)\n",
      "Win/lose count 7.5/12.0. Average score (-4.0)\n",
      "Win/lose count 9.0/8.0. Average score (-2.3333333333333335)\n",
      "Win/lose count 10.5/19.0. Average score (-3.875)\n",
      "Win/lose count 7.5/11.0. Average score (-3.8)\n",
      "Win/lose count 9.0/16.0. Average score (-4.333333333333333)\n",
      "Win/lose count 8.0/11.0. Average score (-4.142857142857143)\n",
      "Win/lose count 11.5/5.0. Average score (-2.8125)\n",
      "Win/lose count 8.0/14.0. Average score (-3.1666666666666665)\n",
      "Win/lose count 6.5/12.0. Average score (-3.4)\n",
      "Final score: -3.4\n"
     ]
    },
    {
     "data": {
      "text/html": [
       "<video alt=\"test\" controls>\n",
       "                <source src=\"data:video/mp4;base64,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\" type=\"video/mp4\" />\n",
       "             </video>"
      ],
      "text/plain": [
       "<IPython.core.display.HTML object>"
      ]
     },
     "execution_count": 10,
     "metadata": {},
     "output_type": "execute_result"
    }
   ],
   "source": [
    "# Initialize the game\n",
    "env = Environment(grid_size=size, max_time=T,temperature=temperature)\n",
    "\n",
    "# Initialize the agent!\n",
    "agent = RandomAgent()\n",
    "\n",
    "test(agent,env,epochs_test,prefix='random')\n",
    "HTML(display_videos('random0.mp4'))"
   ]
  },
  {
   "cell_type": "markdown",
   "metadata": {},
   "source": [
    "***\n",
    "## DQN"
   ]
  },
  {
   "cell_type": "markdown",
   "metadata": {},
   "source": [
    "Let us assume here that $T=\\infty$.\n",
    "\n",
    "***\n",
    "__Question 5__ Let $\\pi$ be a policy, show that:\n",
    "\n",
    "\\begin{equation*}\n",
    "Q^{\\pi}(s,a)=E_{(s',a')\\sim p(.|s,a)}[r(s,a)+\\gamma Q^{\\pi}(s',a')]\n",
    "\\end{equation*}\n",
    "\n",
    "Then, show that for the optimal policy $\\pi^*$ (we assume its existence), the following holds: \n",
    "\n",
    "\\begin{equation*}\n",
    "Q^{*}(s,a)=E_{s'\\sim \\pi^*(.|s,a)}[r(s,a)+\\gamma\\max_{a'}Q^{*}(s',a')].\n",
    "\\end{equation*}\n",
    "Finally, deduce that a plausible objective is:\n",
    "\n",
    "\\begin{equation*}\n",
    "\\mathcal{L}(\\theta)=E_{s' \\sim \\pi^*(.|s,a)}\\Vert r+\\gamma\\max\\max_{a'}Q(s',a',\\theta)-Q(s,a,\\theta)\\Vert^{2}.\n",
    "\\end{equation*}\n",
    "\n",
    "\n"
   ]
  },
  {
   "cell_type": "markdown",
   "metadata": {},
   "source": [
    "**Answer:**\n",
    "\n",
    "**1-** la fonction $Q^\\pi(s,a)$ est définit comme suit:\n",
    "\n",
    "$$ Q^\\pi(s,a)=E_{p^{\\pi}}[\\sum_{t}\\gamma^{t}r(s_{t},a_{t})|s_{0}=s,a_{0}=a] \\> $$\n",
    "\n",
    "Elle devient :\n",
    "\n",
    "$$ Q^\\pi(s,a)=E_{p^{\\pi}}[ r(s_{0},a_{0}) + \\sum_{t \\geq 1}\\gamma^{t}r(s_{t},a_{t})|s_{0}=s,a_{0}=a] \\> $$\n",
    "Par la suite:\n",
    "\n",
    "$$ Q^\\pi(s,a)=E_{p^{\\pi}}[ r(s,a) + \\gamma \\sum_{t \\geq 1}\\gamma^{t-1}r(s_{t},a_{t})|s_{0}=s,a_{0}=a] \\> $$\n",
    "\n",
    "Comme  $ (s_{t},a_{t}) = (s_{t}^\\prime,a_{t}^\\prime) $ et $ (s^\\prime,a^\\prime) = (s_1 , a_1)$, on obtient:\n",
    "\n",
    "$$ Q^\\pi(s,a)=E_{(s',a')\\sim p(.|s,a)}[ r(s,a) + E_{p^{\\pi}}[ \\gamma \\sum_{t}\\gamma^{t}r(s_{t}^\\prime,a_{t}^\\prime)|s_{0}^\\prime=s^\\prime,a_{0}^\\prime=a^\\prime] ] \\> $$\n",
    "\n",
    "Et finalement: \n",
    "\n",
    "$$ Q^{\\pi}(s,a)=E_{(s',a')\\sim p(.|s,a)}[r(s,a)+\\gamma Q^{\\pi}(s',a')] $$\n",
    "\n",
    "\n",
    "**2-** La relation entre la stratégie optimale et la fonction $Q^\\pi(s,a)$ est la suivante: \n",
    "\n",
    " $$    \\pi^*(s) = \\max_a Q^*(s,a)              \\                    (1) $$\n",
    "\n",
    "En utilisant le résultat de la question 1, on obtient:\n",
    "\n",
    "$$ Q^{*}(s,a)=E_{(s',a')\\sim \\pi^* (.|s,a)}[r(s,a)+\\gamma Q^{\\pi^*}(s',\\pi^*(s'))] $$\n",
    "\n",
    "On remplace $ \\pi^*(s) $ par son expression en (1):\n",
    "\n",
    "\\begin{equation*}\n",
    "Q^{*}(s,a)=E_{s'\\sim \\pi^*(.|s,a)}[r(s,a)+\\gamma\\max_{a'}Q^{*}(s',a')].\n",
    "\\end{equation*}\n",
    "\n",
    "**3-** On a d'après le résultat de la question 2:\n",
    "\n",
    "\\begin{equation*}\n",
    "E_{s' \\sim \\pi^*(.|s,a)}\\Vert r+\\gamma\\max\\max_{a'}Q^*(s',a',\\theta)-Q^*(s,a,\\theta)\\Vert^{2} = 0 \\text{ si Q = Q*  et c'est strictement positive dans le cas échéant}\n",
    "\\end{equation*}\n",
    "\n",
    "On obtient l'objectif suivant qu'il faut minimiser au cours du training du DQN:\n",
    "\n",
    "\\begin{equation*}\n",
    "\\mathcal{L}(\\theta)=E_{s' \\sim \\pi^*(.|s,a)}\\Vert r+\\gamma\\max\\max_{a'}Q(s',a',\\theta)-Q(s,a,\\theta)\\Vert^{2}.\n",
    "\\end{equation*}\n"
   ]
  },
  {
   "cell_type": "markdown",
   "metadata": {},
   "source": [
    "***\n",
    "The DQN-learning algorithm relies on these derivations to train the parameters $\\theta$ of a Deep Neural Network:\n",
    "\n",
    "1. At the state $s_t$, select the action $a_t$ with best reward using $Q_t$ and store the results;\n",
    "\n",
    "2. Obtain the new state $s_{t+1}$ from the environment $p$;\n",
    "\n",
    "3. Store $(s_t,a_t,s_{t+1})$;\n",
    "\n",
    "4. Obtain $Q_{t+1}$ by minimizing  $\\mathcal{L}$ from a recovered batch from the previously stored results.\n",
    "\n",
    "***\n",
    "__Question 6__ Implement the class ```Memory``` that stores moves (in a replay buffer) via ```remember``` and provides a ```random_access``` to these. Specify a maximum memory size to avoid side effects. You can for example use a ```list()``` and set by default ```max_memory=100```."
   ]
  },
  {
   "cell_type": "code",
   "execution_count": 11,
   "metadata": {},
   "outputs": [],
   "source": [
    "class Memory(object):\n",
    "    def __init__(self, max_memory=100):\n",
    "        self.max_memory = max_memory\n",
    "        self.memory = list()\n",
    "\n",
    "    def remember(self, m):\n",
    "        self.memory.append(m)\n",
    "        if len(self.memory)>self.max_memory:\n",
    "            del self.memory[0]\n",
    "\n",
    "    def random_access(self):\n",
    "        idx=np.random.choice(len(self.memory))\n",
    "        return self.memory[idx]\n",
    "        "
   ]
  },
  {
   "cell_type": "markdown",
   "metadata": {},
   "source": [
    "***\n",
    "The pipeline we will use for training is given below:"
   ]
  },
  {
   "cell_type": "code",
   "execution_count": 12,
   "metadata": {},
   "outputs": [],
   "source": [
    "def train(agent,env,epoch,prefix=''):\n",
    "    # Number of won games\n",
    "    score = 0\n",
    "    loss = 0\n",
    "\n",
    "    for e in range(epoch):\n",
    "        # At each epoch, we restart to a fresh game and get the initial state\n",
    "        state = env.reset()\n",
    "        # This assumes that the games will terminate\n",
    "        game_over = False\n",
    "\n",
    "        win = 0\n",
    "        lose = 0\n",
    "\n",
    "        while not game_over:\n",
    "            # The agent performs an action\n",
    "            action = agent.act(state)\n",
    "\n",
    "            # Apply an action to the environment, get the next state, the reward\n",
    "            # and if the games end\n",
    "            prev_state = state\n",
    "            state, reward, game_over = env.act(action)\n",
    "\n",
    "            # Update the counters\n",
    "            if reward > 0:\n",
    "                win = win + reward\n",
    "            if reward < 0:\n",
    "                lose = lose -reward\n",
    "\n",
    "            # Apply the reinforcement strategy\n",
    "            loss = agent.reinforce(prev_state, state,  action, reward, game_over)\n",
    "\n",
    "        # Save as a mp4\n",
    "        if e % 10 == 0:\n",
    "            env.draw(prefix+str(e))\n",
    "\n",
    "        # Update stats\n",
    "        score += win-lose\n",
    "\n",
    "        print(\"Epoch {:03d}/{:03d} | Loss {:.4f} | Win/lose count {}/{} ({})\"\n",
    "              .format(e, epoch, loss, win, lose, win-lose))\n",
    "        agent.save(name_weights=prefix+'model.h5',name_model=prefix+'model.json')"
   ]
  },
  {
   "cell_type": "markdown",
   "metadata": {},
   "source": [
    "***\n",
    "__Question 7__ Implement the DQN training algorithm using a cascade of fully connected layers. You can use different learning rate, batch size or memory size parameters. In particular, the loss might oscillate while the player will start to win the games. You have to find a good criterium."
   ]
  },
  {
   "cell_type": "code",
   "execution_count": 13,
   "metadata": {},
   "outputs": [],
   "source": [
    "class DQN(Agent):\n",
    "    def __init__(self, grid_size,  epsilon = 0.1, memory_size=100, batch_size = 16,n_state=2):\n",
    "        super(DQN, self).__init__(epsilon = epsilon)\n",
    "\n",
    "        # Discount for Q learning\n",
    "        self.discount = 0.99\n",
    "        \n",
    "        self.grid_size = grid_size\n",
    "        \n",
    "        # number of state\n",
    "        self.n_state = n_state\n",
    "\n",
    "        # Memory\n",
    "        self.memory = Memory(memory_size)\n",
    "        \n",
    "        # Batch size when learning\n",
    "        self.batch_size = batch_size\n",
    "\n",
    "    def learned_act(self, s):\n",
    "        pass\n",
    "\n",
    "    def reinforce(self, s_, n_s_, a_, r_, game_over_):\n",
    "        # Two steps: first memorize the states, second learn from the pool\n",
    "\n",
    "        self.memory.remember([s_, n_s_, a_, r_, game_over_])\n",
    "        \n",
    "        input_states = np.zeros((self.batch_size, 5,5,self.n_state))\n",
    "        target_q = np.zeros((self.batch_size, 4))\n",
    "        \n",
    "        for i in range(self.batch_size):\n",
    "            transit=self.memory.random_access()\n",
    "            input_states[i]=transit[0]\n",
    "            target_q[i]=self.model.predict(transit[0].reshape(1 , 5 ,5 ,self.n_state))\n",
    "            action=transit[2]\n",
    "            reward=transit[3]\n",
    "            \n",
    "            if transit[-1]:\n",
    "                target_q[i][action]=reward\n",
    "            else:\n",
    "                target_q[i][action]=reward+self.discount*np.max(self.model.predict(transit[1].reshape(1 , 5 ,5 ,self.n_state)))\n",
    "                \n",
    "        target_q = np.clip(target_q, -1.5, 1.5)\n",
    "\n",
    "        l = self.model.train_on_batch(input_states, target_q)\n",
    "\n",
    "\n",
    "        return l\n",
    "\n",
    "    def save(self,name_weights='model.h5',name_model='model.json'):\n",
    "        self.model.save_weights(name_weights, overwrite=True)\n",
    "        with open(name_model, \"w\") as outfile:\n",
    "            json.dump(self.model.to_json(), outfile)\n",
    "            \n",
    "    def load(self,name_weights='model.h5',name_model='model.json'):\n",
    "        with open(name_model, \"r\") as jfile:\n",
    "            model = model_from_json(json.load(jfile))\n",
    "        model.load_weights(name_weights)\n",
    "        model.compile(\"sgd\", \"mse\")\n",
    "        self.model = model\n",
    "\n",
    "            \n",
    "class DQN_FC(DQN):\n",
    "    def __init__(self, *args, lr=0.1,**kwargs):\n",
    "        super(DQN_FC, self).__init__( *args,**kwargs)\n",
    "        \n",
    "        model = Sequential()\n",
    "        model.add(Flatten(input_shape = (5 , 5 , self.n_state)))\n",
    "        model.add(Dense(128))\n",
    "        model.add(Activation('relu'))\n",
    "        model.add(Dense(32))\n",
    "        model.add(Activation('relu'))\n",
    "        model.add(Dense(4))\n",
    "\n",
    "        \n",
    "        model.compile(sgd(lr=lr, decay=1e-4, momentum=0.0), \"mse\")\n",
    "        self.model = model\n",
    "        "
   ]
  },
  {
   "cell_type": "code",
   "execution_count": 14,
   "metadata": {
    "scrolled": true
   },
   "outputs": [
    {
     "name": "stdout",
     "output_type": "stream",
     "text": [
      "WARNING:tensorflow:From C:\\ProgramData\\Anaconda3\\lib\\site-packages\\tensorflow\\python\\framework\\op_def_library.py:263: colocate_with (from tensorflow.python.framework.ops) is deprecated and will be removed in a future version.\n",
      "Instructions for updating:\n",
      "Colocations handled automatically by placer.\n",
      "WARNING:tensorflow:From C:\\ProgramData\\Anaconda3\\lib\\site-packages\\tensorflow\\python\\ops\\math_ops.py:3066: to_int32 (from tensorflow.python.ops.math_ops) is deprecated and will be removed in a future version.\n",
      "Instructions for updating:\n",
      "Use tf.cast instead.\n",
      "WARNING:tensorflow:Variable *= will be deprecated. Use `var.assign(var * other)` if you want assignment to the variable value or `x = x * y` if you want a new python Tensor object.\n",
      "Epoch 000/050 | Loss 0.0113 | Win/lose count 4.5/1.0 (3.5)\n",
      "Epoch 001/050 | Loss 0.0232 | Win/lose count 3.0/7.0 (-4.0)\n",
      "Epoch 002/050 | Loss 0.0022 | Win/lose count 1.0/3.0 (-2.0)\n",
      "Epoch 003/050 | Loss 0.0021 | Win/lose count 1.5/5.0 (-3.5)\n",
      "Epoch 004/050 | Loss 0.0037 | Win/lose count 4.0/3.0 (1.0)\n",
      "Epoch 005/050 | Loss 0.0033 | Win/lose count 1.5/5.0 (-3.5)\n",
      "Epoch 006/050 | Loss 0.0574 | Win/lose count 0/3.0 (-3.0)\n",
      "Epoch 007/050 | Loss 0.0122 | Win/lose count 2.0/1.0 (1.0)\n",
      "Epoch 008/050 | Loss 0.0077 | Win/lose count 0.5/2.0 (-1.5)\n",
      "Epoch 009/050 | Loss 0.0018 | Win/lose count 0.5/4.0 (-3.5)\n",
      "Epoch 010/050 | Loss 0.0084 | Win/lose count 1.5/0 (1.5)\n",
      "Epoch 011/050 | Loss 0.0030 | Win/lose count 3.0/2.0 (1.0)\n",
      "Epoch 012/050 | Loss 0.0071 | Win/lose count 2.0/0 (2.0)\n",
      "Epoch 013/050 | Loss 0.0303 | Win/lose count 0.5/3.0 (-2.5)\n",
      "Epoch 014/050 | Loss 0.0013 | Win/lose count 1.5/6.0 (-4.5)\n",
      "Epoch 015/050 | Loss 0.0017 | Win/lose count 0.5/5.0 (-4.5)\n",
      "Epoch 016/050 | Loss 0.0094 | Win/lose count 2.5/3.0 (-0.5)\n",
      "Epoch 017/050 | Loss 0.0036 | Win/lose count 1.5/1.0 (0.5)\n",
      "Epoch 018/050 | Loss 0.0270 | Win/lose count 1.5/2.0 (-0.5)\n",
      "Epoch 019/050 | Loss 0.0016 | Win/lose count 2.0/2.0 (0.0)\n",
      "Epoch 020/050 | Loss 0.0242 | Win/lose count 2.0/2.0 (0.0)\n",
      "Epoch 021/050 | Loss 0.0079 | Win/lose count 2.5/3.0 (-0.5)\n",
      "Epoch 022/050 | Loss 0.0061 | Win/lose count 2.5/2.0 (0.5)\n",
      "Epoch 023/050 | Loss 0.0009 | Win/lose count 1.0/5.0 (-4.0)\n",
      "Epoch 024/050 | Loss 0.0013 | Win/lose count 1.0/3.0 (-2.0)\n",
      "Epoch 025/050 | Loss 0.0024 | Win/lose count 0.5/2.0 (-1.5)\n",
      "Epoch 026/050 | Loss 0.0017 | Win/lose count 1.0/4.0 (-3.0)\n",
      "Epoch 027/050 | Loss 0.0122 | Win/lose count 1.5/1.0 (0.5)\n",
      "Epoch 028/050 | Loss 0.0013 | Win/lose count 2.0/1.0 (1.0)\n",
      "Epoch 029/050 | Loss 0.0009 | Win/lose count 1.0/3.0 (-2.0)\n",
      "Epoch 030/050 | Loss 0.0050 | Win/lose count 1.5/3.0 (-1.5)\n",
      "Epoch 031/050 | Loss 0.0219 | Win/lose count 1.5/5.0 (-3.5)\n",
      "Epoch 032/050 | Loss 0.0254 | Win/lose count 1.0/2.0 (-1.0)\n",
      "Epoch 033/050 | Loss 0.0013 | Win/lose count 2.0/3.0 (-1.0)\n",
      "Epoch 034/050 | Loss 0.0029 | Win/lose count 1.5/5.0 (-3.5)\n",
      "Epoch 035/050 | Loss 0.0393 | Win/lose count 1.5/0 (1.5)\n",
      "Epoch 036/050 | Loss 0.0106 | Win/lose count 1.0/0 (1.0)\n",
      "Epoch 037/050 | Loss 0.0048 | Win/lose count 2.0/5.0 (-3.0)\n",
      "Epoch 038/050 | Loss 0.0178 | Win/lose count 2.0/2.0 (0.0)\n",
      "Epoch 039/050 | Loss 0.0023 | Win/lose count 2.0/2.0 (0.0)\n",
      "Epoch 040/050 | Loss 0.0029 | Win/lose count 1.5/5.0 (-3.5)\n",
      "Epoch 041/050 | Loss 0.0011 | Win/lose count 0.5/3.0 (-2.5)\n",
      "Epoch 042/050 | Loss 0.0189 | Win/lose count 1.5/5.0 (-3.5)\n",
      "Epoch 043/050 | Loss 0.0045 | Win/lose count 3.0/3.0 (0.0)\n",
      "Epoch 044/050 | Loss 0.0020 | Win/lose count 3.0/2.0 (1.0)\n",
      "Epoch 045/050 | Loss 0.0066 | Win/lose count 0/4.0 (-4.0)\n",
      "Epoch 046/050 | Loss 0.0096 | Win/lose count 1.5/5.0 (-3.5)\n",
      "Epoch 047/050 | Loss 0.0063 | Win/lose count 2.5/3.0 (-0.5)\n",
      "Epoch 048/050 | Loss 0.0107 | Win/lose count 1.5/1.0 (0.5)\n",
      "Epoch 049/050 | Loss 0.0117 | Win/lose count 2.0/2.0 (0.0)\n"
     ]
    },
    {
     "data": {
      "text/html": [
       "<video alt=\"test\" controls>\n",
       "                <source src=\"data:video/mp4;base64,AAAAIGZ0eXBpc29tAAACAGlzb21pc28yYXZjMW1wNDEAAAAIZnJlZQAAE/1tZGF0AAACrQYF//+p3EXpvebZSLeWLNgg2SPu73gyNjQgLSBjb3JlIDE1NyByMjkzNSA1NDVkZTJmIC0gSC4yNjQvTVBFRy00IEFWQyBjb2RlYyAtIENvcHlsZWZ0IDIwMDMtMjAxOCAtIGh0dHA6Ly93d3cudmlkZW9sYW4ub3JnL3gyNjQuaHRtbCAtIG9wdGlvbnM6IGNhYmFjPTEgcmVmPTMgZGVibG9jaz0xOjA6MCBhbmFseXNlPTB4MToweDExMSBtZT1oZXggc3VibWU9NyBwc3k9MSBwc3lfcmQ9MS4wMDowLjAwIG1peGVkX3JlZj0xIG1lX3JhbmdlPTE2IGNocm9tYV9tZT0xIHRyZWxsaXM9MSA4eDhkY3Q9MCBjcW09MCBkZWFkem9uZT0yMSwxMSBmYXN0X3Bza2lwPTEgY2hyb21hX3FwX29mZnNldD00IHRocmVhZHM9NiBsb29rYWhlYWRfdGhyZWFkcz0xIHNsaWNlZF90aHJlYWRzPTAgbnI9MCBkZWNpbWF0ZT0xIGludGVybGFjZWQ9MCBibHVyYXlfY29tcGF0PTAgY29uc3RyYWluZWRfaW50cmE9MCBiZnJhbWVzPTMgYl9weXJhbWlkPTIgYl9hZGFwdD0xIGJfYmlhcz0wIGRpcmVjdD0xIHdlaWdodGI9MSBvcGVuX2dvcD0wIHdlaWdodHA9MiBrZXlpbnQ9MjUwIGtleWludF9taW49MjUgc2NlbmVjdXQ9NDAgaW50cmFfcmVmcmVzaD0wIHJjX2xvb2thaGVhZD00MCByYz1jcmYgbWJ0cmVlPTEgY3JmPTIzLjAgcWNvbXA9MC42MCBxcG1pbj0wIHFwbWF4PTY5IHFwc3RlcD00IGlwX3JhdGlvPTEuNDAgYXE9MToxLjAwAIAAAALVZYiEADv//vb8/AptUwn/LZ/+iL/lb+9P2a61uFE7M7QacwPQC/3cd/Xi1bCrc27LcdG8bJkAU3Roif8hrvvgUoqkfgUzWsTF48fEuclbMjPgm4klJnPBat0VhW9f6LnfQa4o5341xwV8uJBfuA62QmogebzhYG/Lo8h/C0noAmgprLcHyb4EorPSbjsAVFv7a0varpB4LCxnYLbJv6cgrrLpbRT8dhYMEp4QCrO756rRg2eMAjgzcUNGFKLgZcbo+fjyqwZuJS+UCkoJs0pbooFtZ+QMsTkG/fQTgYzYNBbI/RcW6yJ6TAO5X9hxnXpbSLItgPc5A31nm4A+4mWY5XnndH5kRXYGOVTl1Qh0AnRLiFouKhEKYGHhlAAAEtxiMsxbpfwcHvmMrUEBfltMSuNg8W7BDfoYA+iJdMcSKRsn3l3NwKSbcbnqAq3UEt1W8lDd4Ad5suv6PcFkIuzGizuKI8ayoXmjOOo0EKeABn/KcfN19HIlnygSCVt4rP2cRjOYa9ldL3sKJaYz6Or5J/8Bzs0G9gGTIY1oImhAY9n6AP8Ds7MGWTtU2d7u8cVtn1eOb1iT9sBWP1x4mt4SD3K4APu3J8kToDpmDA1oNw2E6sq7+OiNukEQu9cX4x7BXAp/Al1Sx6sx7dKBgktAHwvp5EpgEYFN2fP7OqMac8cem0N12mSUp3iI0ZymUv8XBVdlppsbvII/pzDzZE1f9IvIsqwDNSo93IQHBIJ1pkxaLO9v+xeLSNRVlWt/7hviErDyNWdNqsP6aGRtKJMBJw+qXyLJidG4GbT1b1mYONBHbkKDAkAnyrPNWznFrsC97NNtOFvMIw/fLSg1oiwuPUOQlJ6937uS+94Apwv5Or08XZfx68XEGX75s0wqzRJodrQgKn9Fcb6WnFtDmxkuirgsMgfQRawYOwEjlptNFUJk8mPfKRwA4zE4jue9vSc6+AAADykAAAANQZokbEO//qmWAACVgAAAAApBnkJ4hf8AALKBAAAACgGeYXRCvwAA7oAAAAAKAZ5jakK/AADugQAAABxBmmhJqEFomUwId//+qZYAD5pkJNw4QgH9/E1JAAAAD0GehkURLC//ABLZ/u+2sQAAAA0BnqV0Qr8AGcktJnshAAAACgGep2pCvwAA7oAAAAATQZqsSahBbJlMCHf//qmWAACVgAAAAAxBnspFFSwv/wAAsoEAAAAKAZ7pdEK/AADugAAAAAoBnutqQr8AAO6AAAAAE0Ga8EmoQWyZTAh3//6plgAAlYEAAAAMQZ8ORRUsL/8AALKBAAAACgGfLXRCvwAA7oEAAAAKAZ8vakK/AADugAAAABpBmzRJqEFsmUwId//+qZYAGKqQZn3ib7tckAAAAA9Bn1JFFSwv/wAc/9lfWmEAAAANAZ9xdEK/ACfJyluqEAAAAAoBn3NqQr8AAO6AAAAAE0GbeEmoQWyZTAh3//6plgAAlYEAAAAMQZ+WRRUsL/8AALKAAAAACgGftXRCvwAA7oEAAAAKAZ+3akK/AADugQAAABNBm7xJqEFsmUwId//+qZYAAJWAAAAADEGf2kUVLC//AACygQAAAAoBn/l0Qr8AAO6AAAAACgGf+2pCvwAA7oEAAAAaQZvgSahBbJlMCHf//qmWACYIsN0Umd92qpEAAAAPQZ4eRRUsL/8ALWyktn9gAAAADQGePXRCvwA8vE9bn7AAAAAKAZ4/akK/AADugQAAABNBmiRJqEFsmUwId//+qZYAAJWAAAAADEGeQkUVLC//AACygQAAAAoBnmF0Qr8AAO6AAAAACgGeY2pCvwAA7oEAAAATQZpoSahBbJlMCHf//qmWAACVgQAAAAxBnoZFFSwv/wAAsoEAAAAKAZ6ldEK/AADugQAAAAoBnqdqQr8AAO6AAAAAE0GarEmoQWyZTAh3//6plgAAlYAAAAAMQZ7KRRUsL/8AALKBAAAACgGe6XRCvwAA7oAAAAAKAZ7rakK/AADugAAAABNBmvBJqEFsmUwId//+qZYAAJWBAAAADEGfDkUVLC//AACygQAAAAoBny10Qr8AAO6BAAAACgGfL2pCvwAA7oAAAAATQZs0SahBbJlMCHf//qmWAACVgAAAAAxBn1JFFSwv/wAAsoEAAAAKAZ9xdEK/AADugAAAAAoBn3NqQr8AAO6AAAAAE0GbeEmoQWyZTAh3//6plgAAlYEAAAAMQZ+WRRUsL/8AALKAAAAACgGftXRCvwAA7oEAAAAKAZ+3akK/AADugQAAABpBm7xJqEFsmUwId//+qZYAJwoJ+U0Y/Wk6kAAAAA9Bn9pFFSwv/wAuk+vaurUAAAAKAZ/5dEK/AADugAAAAA0Bn/tqQr8APizPnr/xAAAAE0Gb4EmoQWyZTAh3//6plgAAlYEAAAAMQZ4eRRUsL/8AALKAAAAACgGePXRCvwAA7oAAAAAKAZ4/akK/AADugQAAABNBmiRJqEFsmUwId//+qZYAAJWAAAAADEGeQkUVLC//AACygQAAAAoBnmF0Qr8AAO6AAAAACgGeY2pCvwAA7oEAAAAnQZpoSahBbJlMCHf//qmWACl+7FzLK1TVeBSiQLwKZrlz28H1iCBBAAAAEEGehkUVLC//ADEK0yCeluEAAAAKAZ6ldEK/AADugQAAAA8BnqdqQr8AQXYjyXM+ShMAAAATQZqsSahBbJlMCHf//qmWAACVgAAAAAxBnspFFSwv/wAAsoEAAAAKAZ7pdEK/AADugAAAAAoBnutqQr8AAO6AAAAAHEGa8EmoQWyZTAh3//6plgApOlnKDcW9kUYaosEAAAAPQZ8ORRUsL/8AMQIpGHxhAAAADQGfLXRCvwBBXZS3PGEAAAAKAZ8vakK/AADugAAAABtBmzJJqEFsmUwUTDv//qmWABqvaX87pCmEWzAAAAANAZ9RakK/ACstuBKbwQAAABlBm1ZJ4QpSZTAh3/6plgARH486WdHU8mnAAAAAD0GfdEU0TC//ABR2NuWGMAAAAA0Bn5N0Qr8AG5/5fmpxAAAACgGflWpCvwAA7oAAAAATQZuaSahBaJlMCHf//qmWAACVgQAAAAxBn7hFESwv/wAAsoEAAAAKAZ/XdEK/AADugAAAAAoBn9lqQr8AAO6BAAAAGkGb3kmoQWyZTAh3//6plgARAo51oer75GnAAAAAD0Gf/EUVLC//ABR59e1hjQAAAAoBnht0Qr8AAO6BAAAADQGeHWpCvwAbp1vPanAAAAATQZoCSahBbJlMCHf//qmWAACVgAAAAAxBniBFFSwv/wAAsoEAAAAKAZ5fdEK/AADugAAAAAoBnkFqQr8AAO6BAAAAE0GaRkmoQWyZTAh3//6plgAAlYAAAAAMQZ5kRRUsL/8AALKBAAAACgGeg3RCvwAA7oEAAAAKAZ6FakK/AADugQAAABNBmopJqEFsmUwId//+qZYAAJWBAAAADEGeqEUVLC//AACygAAAAAoBnsd0Qr8AAO6AAAAACgGeyWpCvwAA7oEAAAATQZrOSahBbJlMCHf//qmWAACVgAAAAAxBnuxFFSwv/wAAsoAAAAAKAZ8LdEK/AADugQAAAAoBnw1qQr8AAO6BAAAAGkGbEkmoQWyZTAh3//6plgARH48/fsg3FRvhAAAAD0GfMEUVLC//ABR6AW5UTAAAAAoBn090Qr8AAO6AAAAADQGfUWpCvwAbp2puHfkAAAATQZtWSahBbJlMCHf//qmWAACVgAAAAAxBn3RFFSwv/wAAsoAAAAAKAZ+TdEK/AADugQAAAAoBn5VqQr8AAO6AAAAAGkGbmkmoQWyZTAh3//6plgALbpZXGaX9sEzBAAAAD0GfuEUVLC//AA2AeiAb0QAAAA0Bn9d0Qr8AEl8ytOegAAAACgGf2WpCvwAA7oEAAAATQZveSahBbJlMCHf//qmWAACVgAAAAAxBn/xFFSwv/wAAsoEAAAAKAZ4bdEK/AADugQAAAAoBnh1qQr8AAO6AAAAAGkGaAkmoQWyZTAh3//6plgALf8ktLOjqeUegAAAAD0GeIEUVLC//AA2CpoayxQAAAAoBnl90Qr8AAO6AAAAADQGeQWpCvwASWTcNz0EAAAATQZpGSahBbJlMCHf//qmWAACVgAAAAAxBnmRFFSwv/wAAsoEAAAAKAZ6DdEK/AADugQAAAAoBnoVqQr8AAO6BAAAAE0GaikmoQWyZTAh3//6plgAAlYEAAAAMQZ6oRRUsL/8AALKAAAAACgGex3RCvwAA7oAAAAAKAZ7JakK/AADugQAAABpBms5JqEFsmUwId//+qZYACze+rKrM2zBOwAAAAA9BnuxFFSwv/wANMqaGsuwAAAAKAZ8LdEK/AADugQAAAA0Bnw1qQr8AEd2Pz3RxAAAAGkGbEkmoQWyZTAh3//6plgAK776sqszbMFFBAAAAD0GfMEUVLC//AAzgeiAdMAAAAA0Bn090Qr8AEVdP/nUwAAAACgGfUWpCvwAA7oEAAAATQZtWSahBbJlMCHf//qmWAACVgAAAAAxBn3RFFSwv/wAAsoAAAAAKAZ+TdEK/AADugQAAAAoBn5VqQr8AAO6AAAAAGkGbmkmoQWyZTAh3//6plgAQBFhujEI59h3hAAAAD0GfuEUVLC//ABNc+6bLRQAAAAoBn9d0Qr8AAO6AAAAADQGf2WpCvwAaYlrNZSEAAAATQZveSahBbJlMCHf//qmWAACVgAAAAAxBn/xFFSwv/wAAsoEAAAAKAZ4bdEK/AADugQAAAAoBnh1qQr8AAO6AAAAAE0GaAkmoQWyZTAh3//6plgAAlYAAAAAMQZ4gRRUsL/8AALKBAAAACgGeX3RCvwAA7oAAAAAKAZ5BakK/AADugQAAABpBmkZJqEFsmUwId//+qZYAEB+jn37INxUd4AAAAA9BnmRFFSwv/wATWf7vthEAAAANAZ6DdEK/ABppLSZ6IQAAAAoBnoVqQr8AAO6BAAAAGkGaikmoQWyZTAh3//6plgAKp76vrsQbipkxAAAAD0GeqEUVLC//AAyQikY5YAAAAA0Bnsd0Qr8AEN9KJpLAAAAACgGeyWpCvwAA7oEAAAAaQZrOSahBbJlMCHf//qmWAAbT2l4WoJ/YPyAAAAAPQZ7sRRUsL/8AB/E2Q1tMAAAACgGfC3RCvwAA7oEAAAANAZ8NakK/AAsVh+fDcQAAABNBmxJJqEFsmUwId//+qZYAAJWBAAAADEGfMEUVLC//AACygAAAAAoBn090Qr8AAO6AAAAACgGfUWpCvwAA7oEAAAAaQZtWSahBbJlMCHf//qmWAAar2l/O6QphKxAAAAAPQZ90RRUsL/8AB8P2V+1wAAAADQGfk3RCvwAKynKW/vEAAAAKAZ+VakK/AADugAAAABNBm5pJqEFsmUwId//+qZYAAJWBAAAADEGfuEUVLC//AACygQAAAAoBn9d0Qr8AAO6AAAAACgGf2WpCvwAA7oEAAAAaQZveSahBbJlMCHf//qmWAAaipBmgD0l9lXAAAAAPQZ/8RRUsL/8AB8U5pWm9AAAACgGeG3RCvwAA7oEAAAANAZ4dakK/AArLbgTfwAAAABJBmgJJqEFsmUwIb//+p4QAAScAAAAMQZ4gRRUsL/8AALKBAAAACgGeX3RCvwAA7oAAAAAKAZ5BakK/AADugQAAABJBmkZJqEFsmUwIZ//+nhAABHwAAAAMQZ5kRRUsL/8AALKBAAAACgGeg3RCvwAA7oEAAAAKAZ6FakK/AADugQAAABpBmolLqEIQWyRGCCgH8gH9h4AhX/44QAARcQAAACJBnqdFFSwr/wKvY+1BxN2qw0km5aqGByy1u80qIJosYTcGAAAAIAGeyGpCvwKvY+1BxN2qw0km5aqGByy1u80qIJosYTcGAAAMgG1vb3YAAABsbXZoZAAAAAAAAAAAAAAAAAAAA+gAAB+QAAEAAAEAAAAAAAAAAAAAAAABAAAAAAAAAAAAAAAAAAAAAQAAAAAAAAAAAAAAAAAAQAAAAAAAAAAAAAAAAAAAAAAAAAAAAAAAAAAAAAAAAAIAAAuqdHJhawAAAFx0a2hkAAAAAwAAAAAAAAAAAAAAAQAAAAAAAB+QAAAAAAAAAAAAAAAAAAAAAAABAAAAAAAAAAAAAAAAAAAAAQAAAAAAAAAAAAAAAAAAQAAAAAEQAAABEAAAAAAAJGVkdHMAAAAcZWxzdAAAAAAAAAABAAAfkAAABAAAAQAAAAALIm1kaWEAAAAgbWRoZAAAAAAAAAAAAAAAAAAAMgAAAZQAVcQAAAAAAC1oZGxyAAAAAAAAAAB2aWRlAAAAAAAAAAAAAAAAVmlkZW9IYW5kbGVyAAAACs1taW5mAAAAFHZtaGQAAAABAAAAAAAAAAAAAAAkZGluZgAAABxkcmVmAAAAAAAAAAEAAAAMdXJsIAAAAAEAAAqNc3RibAAAAJVzdHNkAAAAAAAAAAEAAACFYXZjMQAAAAAAAAABAAAAAAAAAAAAAAAAAAAAAAEQARAASAAAAEgAAAAAAAAAAQAAAAAAAAAAAAAAAAAAAAAAAAAAAAAAAAAAAAAAAAAAABj//wAAAC9hdmNDAfQADf/hABdn9AANkZsoIhHQgAAAAwCAAAAZB4oUywEABWjr48RIAAAAGHN0dHMAAAAAAAAAAQAAAMoAAAIAAAAAFHN0c3MAAAAAAAAAAQAAAAEAAAZYY3R0cwAAAAAAAADJAAAAAQAABAAAAAABAAAKAAAAAAEAAAQAAAAAAQAAAAAAAAABAAACAAAAAAEAAAoAAAAAAQAABAAAAAABAAAAAAAAAAEAAAIAAAAAAQAACgAAAAABAAAEAAAAAAEAAAAAAAAAAQAAAgAAAAABAAAKAAAAAAEAAAQAAAAAAQAAAAAAAAABAAACAAAAAAEAAAoAAAAAAQAABAAAAAABAAAAAAAAAAEAAAIAAAAAAQAACgAAAAABAAAEAAAAAAEAAAAAAAAAAQAAAgAAAAABAAAKAAAAAAEAAAQAAAAAAQAAAAAAAAABAAACAAAAAAEAAAoAAAAAAQAABAAAAAABAAAAAAAAAAEAAAIAAAAAAQAACgAAAAABAAAEAAAAAAEAAAAAAAAAAQAAAgAAAAABAAAKAAAAAAEAAAQAAAAAAQAAAAAAAAABAAACAAAAAAEAAAoAAAAAAQAABAAAAAABAAAAAAAAAAEAAAIAAAAAAQAACgAAAAABAAAEAAAAAAEAAAAAAAAAAQAAAgAAAAABAAAKAAAAAAEAAAQAAAAAAQAAAAAAAAABAAACAAAAAAEAAAoAAAAAAQAABAAAAAABAAAAAAAAAAEAAAIAAAAAAQAACgAAAAABAAAEAAAAAAEAAAAAAAAAAQAAAgAAAAABAAAKAAAAAAEAAAQAAAAAAQAAAAAAAAABAAACAAAAAAEAAAoAAAAAAQAABAAAAAABAAAAAAAAAAEAAAIAAAAAAQAACgAAAAABAAAEAAAAAAEAAAAAAAAAAQAAAgAAAAABAAAKAAAAAAEAAAQAAAAAAQAAAAAAAAABAAACAAAAAAEAAAoAAAAAAQAABAAAAAABAAAAAAAAAAEAAAIAAAAAAQAABgAAAAABAAACAAAAAAEAAAoAAAAAAQAABAAAAAABAAAAAAAAAAEAAAIAAAAAAQAACgAAAAABAAAEAAAAAAEAAAAAAAAAAQAAAgAAAAABAAAKAAAAAAEAAAQAAAAAAQAAAAAAAAABAAACAAAAAAEAAAoAAAAAAQAABAAAAAABAAAAAAAAAAEAAAIAAAAAAQAACgAAAAABAAAEAAAAAAEAAAAAAAAAAQAAAgAAAAABAAAKAAAAAAEAAAQAAAAAAQAAAAAAAAABAAACAAAAAAEAAAoAAAAAAQAABAAAAAABAAAAAAAAAAEAAAIAAAAAAQAACgAAAAABAAAEAAAAAAEAAAAAAAAAAQAAAgAAAAABAAAKAAAAAAEAAAQAAAAAAQAAAAAAAAABAAACAAAAAAEAAAoAAAAAAQAABAAAAAABAAAAAAAAAAEAAAIAAAAAAQAACgAAAAABAAAEAAAAAAEAAAAAAAAAAQAAAgAAAAABAAAKAAAAAAEAAAQAAAAAAQAAAAAAAAABAAACAAAAAAEAAAoAAAAAAQAABAAAAAABAAAAAAAAAAEAAAIAAAAAAQAACgAAAAABAAAEAAAAAAEAAAAAAAAAAQAAAgAAAAABAAAKAAAAAAEAAAQAAAAAAQAAAAAAAAABAAACAAAAAAEAAAoAAAAAAQAABAAAAAABAAAAAAAAAAEAAAIAAAAAAQAACgAAAAABAAAEAAAAAAEAAAAAAAAAAQAAAgAAAAABAAAKAAAAAAEAAAQAAAAAAQAAAAAAAAABAAACAAAAAAEAAAoAAAAAAQAABAAAAAABAAAAAAAAAAEAAAIAAAAAAQAACgAAAAABAAAEAAAAAAEAAAAAAAAAAQAAAgAAAAABAAAKAAAAAAEAAAQAAAAAAQAAAAAAAAABAAACAAAAAAEAAAoAAAAAAQAABAAAAAABAAAAAAAAAAEAAAIAAAAAAQAACgAAAAABAAAEAAAAAAEAAAAAAAAAAQAAAgAAAAABAAAKAAAAAAEAAAQAAAAAAQAAAAAAAAABAAACAAAAAAEAAAoAAAAAAQAABAAAAAABAAAAAAAAAAEAAAIAAAAAAQAACgAAAAABAAAEAAAAAAEAAAAAAAAAAQAAAgAAAAABAAAKAAAAAAEAAAQAAAAAAQAAAAAAAAABAAACAAAAAAEAAAoAAAAAAQAABAAAAAABAAAAAAAAAAEAAAIAAAAAAQAACgAAAAABAAAEAAAAAAEAAAAAAAAAAQAAAgAAAAABAAAIAAAAAAIAAAIAAAAAHHN0c2MAAAAAAAAAAQAAAAEAAADKAAAAAQAAAzxzdHN6AAAAAAAAAAAAAADKAAAFigAAABEAAAAOAAAADgAAAA4AAAAgAAAAEwAAABEAAAAOAAAAFwAAABAAAAAOAAAADgAAABcAAAAQAAAADgAAAA4AAAAeAAAAEwAAABEAAAAOAAAAFwAAABAAAAAOAAAADgAAABcAAAAQAAAADgAAAA4AAAAeAAAAEwAAABEAAAAOAAAAFwAAABAAAAAOAAAADgAAABcAAAAQAAAADgAAAA4AAAAXAAAAEAAAAA4AAAAOAAAAFwAAABAAAAAOAAAADgAAABcAAAAQAAAADgAAAA4AAAAXAAAAEAAAAA4AAAAOAAAAHgAAABMAAAAOAAAAEQAAABcAAAAQAAAADgAAAA4AAAAXAAAAEAAAAA4AAAAOAAAAKwAAABQAAAAOAAAAEwAAABcAAAAQAAAADgAAAA4AAAAgAAAAEwAAABEAAAAOAAAAHwAAABEAAAAdAAAAEwAAABEAAAAOAAAAFwAAABAAAAAOAAAADgAAAB4AAAATAAAADgAAABEAAAAXAAAAEAAAAA4AAAAOAAAAFwAAABAAAAAOAAAADgAAABcAAAAQAAAADgAAAA4AAAAXAAAAEAAAAA4AAAAOAAAAHgAAABMAAAAOAAAAEQAAABcAAAAQAAAADgAAAA4AAAAeAAAAEwAAABEAAAAOAAAAFwAAABAAAAAOAAAADgAAAB4AAAATAAAADgAAABEAAAAXAAAAEAAAAA4AAAAOAAAAFwAAABAAAAAOAAAADgAAAB4AAAATAAAADgAAABEAAAAeAAAAEwAAABEAAAAOAAAAFwAAABAAAAAOAAAADgAAAB4AAAATAAAADgAAABEAAAAXAAAAEAAAAA4AAAAOAAAAFwAAABAAAAAOAAAADgAAAB4AAAATAAAAEQAAAA4AAAAeAAAAEwAAABEAAAAOAAAAHgAAABMAAAAOAAAAEQAAABcAAAAQAAAADgAAAA4AAAAeAAAAEwAAABEAAAAOAAAAFwAAABAAAAAOAAAADgAAAB4AAAATAAAADgAAABEAAAAWAAAAEAAAAA4AAAAOAAAAFgAAABAAAAAOAAAADgAAAB4AAAAmAAAAJAAAABRzdGNvAAAAAAAAAAEAAAAwAAAAYnVkdGEAAABabWV0YQAAAAAAAAAhaGRscgAAAAAAAAAAbWRpcmFwcGwAAAAAAAAAAAAAAAAtaWxzdAAAACWpdG9vAAAAHWRhdGEAAAABAAAAAExhdmY1OC4yMC4xMDA=\" type=\"video/mp4\" />\n",
       "             </video>"
      ],
      "text/plain": [
       "<IPython.core.display.HTML object>"
      ]
     },
     "execution_count": 14,
     "metadata": {},
     "output_type": "execute_result"
    }
   ],
   "source": [
    "env = Environment(grid_size=size, max_time=T, temperature=0.3)\n",
    "agent = DQN_FC(size, lr=.1, epsilon = 0.1, memory_size=2000, batch_size = 32)\n",
    "train(agent, env, epochs_train, prefix='fc_train')\n",
    "HTML(display_videos('fc_train40.mp4'))"
   ]
  },
  {
   "cell_type": "markdown",
   "metadata": {},
   "source": [
    "***\n",
    "***\n",
    "__Question 8__ Implement the DQN training algorithm using a CNN (for example, 2 convolutional layers and one final fully connected layer)."
   ]
  },
  {
   "cell_type": "code",
   "execution_count": 15,
   "metadata": {},
   "outputs": [],
   "source": [
    "class DQN_CNN(DQN):\n",
    "    def __init__(self, *args,lr=0.1,**kwargs):\n",
    "        super(DQN_CNN, self).__init__(*args,**kwargs)\n",
    "    \n",
    "        model=Sequential()\n",
    "        model.add(Conv2D(64 , 2 , input_shape = (5,5,self.n_state) , padding= 'same'))\n",
    "        model.add(Activation('relu'))\n",
    "        model.add(Conv2D(32 , 2))\n",
    "        model.add(Activation('relu'))\n",
    "        model.add(Conv2D(16 , 2))\n",
    "        model.add(Activation('relu'))\n",
    "        model.add(Flatten())\n",
    "        model.add(Dense(4))\n",
    "\n",
    "        model.compile(sgd(lr=lr, decay=1e-4, momentum=0.0), \"mse\")\n",
    "        self.model = model"
   ]
  },
  {
   "cell_type": "code",
   "execution_count": 16,
   "metadata": {
    "scrolled": true
   },
   "outputs": [
    {
     "name": "stdout",
     "output_type": "stream",
     "text": [
      "Epoch 000/050 | Loss 0.0007 | Win/lose count 1.5/4.0 (-2.5)\n",
      "Epoch 001/050 | Loss 0.0005 | Win/lose count 1.5/2.0 (-0.5)\n",
      "Epoch 002/050 | Loss 0.0654 | Win/lose count 0/0 (0)\n",
      "Epoch 003/050 | Loss 0.0007 | Win/lose count 2.0/1.0 (1.0)\n",
      "Epoch 004/050 | Loss 0.0009 | Win/lose count 2.0/2.0 (0.0)\n",
      "Epoch 005/050 | Loss 0.0005 | Win/lose count 1.0/3.0 (-2.0)\n",
      "Epoch 006/050 | Loss 0.0004 | Win/lose count 1.5/1.0 (0.5)\n",
      "Epoch 007/050 | Loss 0.0064 | Win/lose count 1.5/3.0 (-1.5)\n",
      "Epoch 008/050 | Loss 0.0078 | Win/lose count 1.0/1.0 (0.0)\n",
      "Epoch 009/050 | Loss 0.0003 | Win/lose count 1.0/6.0 (-5.0)\n",
      "Epoch 010/050 | Loss 0.0020 | Win/lose count 1.5/1.0 (0.5)\n",
      "Epoch 011/050 | Loss 0.0004 | Win/lose count 1.5/1.0 (0.5)\n",
      "Epoch 012/050 | Loss 0.0417 | Win/lose count 2.0/2.0 (0.0)\n",
      "Epoch 013/050 | Loss 0.0412 | Win/lose count 1.0/2.0 (-1.0)\n",
      "Epoch 014/050 | Loss 0.0482 | Win/lose count 1.5/1.0 (0.5)\n",
      "Epoch 015/050 | Loss 0.0325 | Win/lose count 1.0/4.0 (-3.0)\n",
      "Epoch 016/050 | Loss 0.0446 | Win/lose count 0.5/4.0 (-3.5)\n",
      "Epoch 017/050 | Loss 0.0003 | Win/lose count 0.5/3.0 (-2.5)\n",
      "Epoch 018/050 | Loss 0.0202 | Win/lose count 2.5/1.0 (1.5)\n",
      "Epoch 019/050 | Loss 0.0005 | Win/lose count 1.5/0 (1.5)\n",
      "Epoch 020/050 | Loss 0.0091 | Win/lose count 1.0/1.0 (0.0)\n",
      "Epoch 021/050 | Loss 0.0004 | Win/lose count 2.5/2.0 (0.5)\n",
      "Epoch 022/050 | Loss 0.0057 | Win/lose count 2.0/3.0 (-1.0)\n",
      "Epoch 023/050 | Loss 0.0081 | Win/lose count 3.5/2.0 (1.5)\n",
      "Epoch 024/050 | Loss 0.0326 | Win/lose count 1.0/2.0 (-1.0)\n",
      "Epoch 025/050 | Loss 0.0080 | Win/lose count 1.0/4.0 (-3.0)\n",
      "Epoch 026/050 | Loss 0.0073 | Win/lose count 3.0/2.0 (1.0)\n",
      "Epoch 027/050 | Loss 0.0004 | Win/lose count 2.0/4.0 (-2.0)\n",
      "Epoch 028/050 | Loss 0.0023 | Win/lose count 2.5/1.0 (1.5)\n",
      "Epoch 029/050 | Loss 0.0093 | Win/lose count 2.5/4.0 (-1.5)\n",
      "Epoch 030/050 | Loss 0.0010 | Win/lose count 2.0/1.0 (1.0)\n",
      "Epoch 031/050 | Loss 0.0023 | Win/lose count 1.5/2.0 (-0.5)\n",
      "Epoch 032/050 | Loss 0.0063 | Win/lose count 3.0/2.0 (1.0)\n",
      "Epoch 033/050 | Loss 0.0004 | Win/lose count 1.5/2.0 (-0.5)\n",
      "Epoch 034/050 | Loss 0.0018 | Win/lose count 1.0/5.0 (-4.0)\n",
      "Epoch 035/050 | Loss 0.0019 | Win/lose count 1.0/2.0 (-1.0)\n",
      "Epoch 036/050 | Loss 0.0292 | Win/lose count 1.5/3.0 (-1.5)\n",
      "Epoch 037/050 | Loss 0.0003 | Win/lose count 3.0/4.0 (-1.0)\n",
      "Epoch 038/050 | Loss 0.0083 | Win/lose count 2.0/2.0 (0.0)\n",
      "Epoch 039/050 | Loss 0.0005 | Win/lose count 0.5/2.0 (-1.5)\n",
      "Epoch 040/050 | Loss 0.0059 | Win/lose count 1.5/3.0 (-1.5)\n",
      "Epoch 041/050 | Loss 0.0006 | Win/lose count 1.5/2.0 (-0.5)\n",
      "Epoch 042/050 | Loss 0.0254 | Win/lose count 2.0/3.0 (-1.0)\n",
      "Epoch 043/050 | Loss 0.0006 | Win/lose count 0.5/2.0 (-1.5)\n",
      "Epoch 044/050 | Loss 0.0011 | Win/lose count 2.0/2.0 (0.0)\n",
      "Epoch 045/050 | Loss 0.0421 | Win/lose count 1.5/0 (1.5)\n",
      "Epoch 046/050 | Loss 0.0003 | Win/lose count 2.5/3.0 (-0.5)\n",
      "Epoch 047/050 | Loss 0.0004 | Win/lose count 1.5/2.0 (-0.5)\n",
      "Epoch 048/050 | Loss 0.0004 | Win/lose count 2.5/2.0 (0.5)\n",
      "Epoch 049/050 | Loss 0.0006 | Win/lose count 2.0/4.0 (-2.0)\n"
     ]
    },
    {
     "data": {
      "text/html": [
       "<video alt=\"test\" controls>\n",
       "                <source src=\"data:video/mp4;base64,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\" type=\"video/mp4\" />\n",
       "             </video>"
      ],
      "text/plain": [
       "<IPython.core.display.HTML object>"
      ]
     },
     "execution_count": 16,
     "metadata": {},
     "output_type": "execute_result"
    }
   ],
   "source": [
    "env = Environment(grid_size=size, max_time=T, temperature=0.3)\n",
    "agent = DQN_CNN(size, lr=.1, epsilon = 0.1, memory_size=2000, batch_size = 32)\n",
    "train(agent,env,epochs_train,prefix='cnn_train')\n",
    "HTML(display_videos('cnn_train40.mp4'))"
   ]
  },
  {
   "cell_type": "markdown",
   "metadata": {},
   "source": [
    "***\n",
    "***\n",
    "__Question 9__ Test both algorithms and compare their performances. Which issue(s) do you observe? Observe also different behaviors by changing the temperature."
   ]
  },
  {
   "cell_type": "code",
   "execution_count": 17,
   "metadata": {},
   "outputs": [
    {
     "name": "stdout",
     "output_type": "stream",
     "text": [
      "Test of the CNN\n",
      "Win/lose count 2.5/1.0. Average score (1.5)\n",
      "Win/lose count 2.0/2.0. Average score (0.75)\n",
      "Win/lose count 1.0/2.0. Average score (0.16666666666666666)\n",
      "Win/lose count 1.5/5.0. Average score (-0.75)\n",
      "Win/lose count 2.0/3.0. Average score (-0.8)\n",
      "Win/lose count 2.0/4.0. Average score (-1.0)\n",
      "Win/lose count 1.5/3.0. Average score (-1.0714285714285714)\n",
      "Win/lose count 0/2.0. Average score (-1.1875)\n",
      "Win/lose count 0.5/3.0. Average score (-1.3333333333333333)\n",
      "Win/lose count 2.5/3.0. Average score (-1.25)\n",
      "Final score: -1.25\n",
      "Test of the FC\n",
      "Win/lose count 1.5/3.0. Average score (-1.5)\n",
      "Win/lose count 3.0/2.0. Average score (-0.25)\n",
      "Win/lose count 5.0/2.0. Average score (0.8333333333333334)\n",
      "Win/lose count 1.5/4.0. Average score (0.0)\n",
      "Win/lose count 3.5/6.0. Average score (-0.5)\n",
      "Win/lose count 1.5/2.0. Average score (-0.5)\n",
      "Win/lose count 0/3.0. Average score (-0.8571428571428571)\n",
      "Win/lose count 1.5/2.0. Average score (-0.8125)\n",
      "Win/lose count 2.5/0. Average score (-0.4444444444444444)\n",
      "Win/lose count 3.5/0. Average score (-0.05)\n",
      "Final score: -0.05\n"
     ]
    }
   ],
   "source": [
    "# Temperature 0.3\n",
    "env = Environment(grid_size=size, max_time=T,temperature=0.3)\n",
    "agent_cnn = DQN_CNN(size, lr=.1, epsilon = 0.1, memory_size=2000, batch_size = 32)\n",
    "agent_cnn.load(name_weights='cnn_trainmodel.h5',name_model='cnn_trainmodel.json')\n",
    "\n",
    "agent_fc = DQN_FC(size, lr=.1, epsilon = 0.1, memory_size=2000, batch_size = 32)\n",
    "agent_cnn.load(name_weights='fc_trainmodel.h5',name_model='fc_trainmodel.json')\n",
    "print('Test of the CNN')\n",
    "test(agent_cnn,env,epochs_test,prefix='cnn_test')\n",
    "print('Test of the FC')\n",
    "test(agent_fc,env,epochs_test,prefix='fc_test')"
   ]
  },
  {
   "cell_type": "code",
   "execution_count": 19,
   "metadata": {},
   "outputs": [
    {
     "data": {
      "text/html": [
       "<video alt=\"test\" controls>\n",
       "                <source src=\"data:video/mp4;base64,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\" type=\"video/mp4\" />\n",
       "             </video>"
      ],
      "text/plain": [
       "<IPython.core.display.HTML object>"
      ]
     },
     "execution_count": 19,
     "metadata": {},
     "output_type": "execute_result"
    }
   ],
   "source": [
    "HTML(display_videos('cnn_test0.mp4'))"
   ]
  },
  {
   "cell_type": "code",
   "execution_count": 20,
   "metadata": {},
   "outputs": [
    {
     "data": {
      "text/html": [
       "<video alt=\"test\" controls>\n",
       "                <source src=\"data:video/mp4;base64,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\" type=\"video/mp4\" />\n",
       "             </video>"
      ],
      "text/plain": [
       "<IPython.core.display.HTML object>"
      ]
     },
     "execution_count": 20,
     "metadata": {},
     "output_type": "execute_result"
    }
   ],
   "source": [
    "HTML(display_videos('fc_test0.mp4'))"
   ]
  },
  {
   "cell_type": "markdown",
   "metadata": {},
   "source": [
    "Je remarque que le FC est plus performant que le CNN."
   ]
  },
  {
   "cell_type": "code",
   "execution_count": 21,
   "metadata": {},
   "outputs": [
    {
     "name": "stdout",
     "output_type": "stream",
     "text": [
      "Test of the CNN\n",
      "Win/lose count 4.5/2.0. Average score (2.5)\n",
      "Win/lose count 3.0/3.0. Average score (1.25)\n",
      "Win/lose count 1.0/2.0. Average score (0.5)\n",
      "Win/lose count 4.0/0. Average score (1.375)\n",
      "Win/lose count 4.5/0. Average score (2.0)\n",
      "Win/lose count 4.5/2.0. Average score (2.0833333333333335)\n",
      "Win/lose count 5.0/1.0. Average score (2.357142857142857)\n",
      "Win/lose count 1.5/2.0. Average score (2.0)\n",
      "Win/lose count 7.5/2.0. Average score (2.388888888888889)\n",
      "Win/lose count 3.5/2.0. Average score (2.3)\n",
      "Final score: 2.3\n",
      "Test of the FC\n",
      "Win/lose count 8.5/2.0. Average score (6.5)\n",
      "Win/lose count 4.5/2.0. Average score (4.5)\n",
      "Win/lose count 7.0/2.0. Average score (4.666666666666667)\n",
      "Win/lose count 4.5/0. Average score (4.625)\n",
      "Win/lose count 2.0/2.0. Average score (3.7)\n",
      "Win/lose count 6.5/1.0. Average score (4.0)\n",
      "Win/lose count 4.5/3.0. Average score (3.642857142857143)\n",
      "Win/lose count 5.5/0. Average score (3.875)\n",
      "Win/lose count 8.5/4.0. Average score (3.9444444444444446)\n",
      "Win/lose count 4.5/1.0. Average score (3.9)\n",
      "Final score: 3.9\n"
     ]
    }
   ],
   "source": [
    "# Temperature 0.8\n",
    "env = Environment(grid_size=size, max_time=T,temperature=0.8)\n",
    "agent_cnn = DQN_CNN(size, lr=.1, epsilon = 0.1, memory_size=2000, batch_size = 32)\n",
    "agent_cnn.load(name_weights='cnn_trainmodel.h5',name_model='cnn_trainmodel.json')\n",
    "\n",
    "agent_fc = DQN_FC(size, lr=.1, epsilon = 0.1, memory_size=2000, batch_size = 32)\n",
    "agent_cnn.load(name_weights='fc_trainmodel.h5',name_model='fc_trainmodel.json')\n",
    "print('Test of the CNN')\n",
    "test(agent_cnn,env,epochs_test,prefix='cnn_test')\n",
    "print('Test of the FC')\n",
    "test(agent_fc,env,epochs_test,prefix='fc_test')"
   ]
  },
  {
   "cell_type": "code",
   "execution_count": 23,
   "metadata": {},
   "outputs": [
    {
     "data": {
      "text/html": [
       "<video alt=\"test\" controls>\n",
       "                <source src=\"data:video/mp4;base64,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\" type=\"video/mp4\" />\n",
       "             </video>"
      ],
      "text/plain": [
       "<IPython.core.display.HTML object>"
      ]
     },
     "execution_count": 23,
     "metadata": {},
     "output_type": "execute_result"
    }
   ],
   "source": [
    "HTML(display_videos('cnn_test0.mp4'))"
   ]
  },
  {
   "cell_type": "code",
   "execution_count": 24,
   "metadata": {},
   "outputs": [
    {
     "data": {
      "text/html": [
       "<video alt=\"test\" controls>\n",
       "                <source src=\"data:video/mp4;base64,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\" type=\"video/mp4\" />\n",
       "             </video>"
      ],
      "text/plain": [
       "<IPython.core.display.HTML object>"
      ]
     },
     "execution_count": 24,
     "metadata": {},
     "output_type": "execute_result"
    }
   ],
   "source": [
    "HTML(display_videos('fc_test0.mp4'))"
   ]
  },
  {
   "cell_type": "markdown",
   "metadata": {},
   "source": [
    "Encore ici, le FC est plus performant que le CNN. De plus, le fait de changer la température permet d'augmenter le score de l'agent. Cela est dû tout simplement au fait que l'augmentation de la température signifie qu'il y a plus de fromage à manger que de fromage empoisonné."
   ]
  },
  {
   "cell_type": "markdown",
   "metadata": {},
   "source": [
    "***\n",
    "\n",
    "The algorithm tends to not explore the map which can be an issue. We propose two ideas in order to encourage exploration:\n",
    "1. Incorporating a decreasing $\\epsilon$-greedy exploration. You can use the method ```set_epsilon```\n",
    "2. Append via the environment a new state that describes if a cell has been visited or not\n",
    "\n",
    "***\n",
    "__Question 10__ Design a new ```train_explore``` function and environment class ```EnvironmentExploring``` to tackle the issue of exploration.\n",
    "\n"
   ]
  },
  {
   "cell_type": "code",
   "execution_count": 25,
   "metadata": {},
   "outputs": [],
   "source": [
    "def train_explore(agent,env,epoch,prefix=''):\n",
    "# Number of won games\n",
    "    score = 0\n",
    "    loss = 0\n",
    "    agent.set_epsilon(0.9)\n",
    "    \n",
    "    for e in range(epoch):\n",
    "        # At each epoch, we restart to a fresh game and get the initial state\n",
    "        state = env.reset()\n",
    "        # This assumes that the games will terminate\n",
    "        game_over = False\n",
    "\n",
    "        win = 0\n",
    "        lose = 0\n",
    "        agent.set_epsilon(agent.epsilon*0.95)\n",
    "\n",
    "        while not game_over:\n",
    "            # The agent performs an action\n",
    "            action = agent.act(state)\n",
    "\n",
    "            # Apply an action to the environment, get the next state, the reward\n",
    "            # and if the games end\n",
    "            prev_state = state\n",
    "            state, reward, game_over = env.act(action)\n",
    "\n",
    "            # Update the counters\n",
    "            if reward > 0:\n",
    "                win = win + reward\n",
    "            if reward < 0:\n",
    "                lose = lose -reward\n",
    "\n",
    "            # Apply the reinforcement strategy\n",
    "            loss = agent.reinforce(prev_state, state,  action, reward, game_over)\n",
    "\n",
    "        # Save as a mp4\n",
    "        if e % 10 == 0:\n",
    "            env.draw(prefix+str(e))\n",
    "\n",
    "        # Update stats\n",
    "        score += win-lose\n",
    "\n",
    "        print(\"Epoch {:03d}/{:03d} | Loss {:.4f} | Win/lose count {}/{} ({})\"\n",
    "              .format(e, epoch, loss, win, lose, win-lose))\n",
    "        agent.save(name_weights=prefix+'model.h5',name_model=prefix+'model.json')\n",
    "        \n",
    "class EnvironmentExploring(object):\n",
    "    def __init__(self, grid_size=10, max_time=500, temperature=0.1):\n",
    "        grid_size = grid_size+4\n",
    "        self.grid_size = grid_size\n",
    "        self.max_time = max_time\n",
    "        self.temperature = temperature\n",
    "\n",
    "        #board on which one plays\n",
    "        self.board = np.zeros((grid_size,grid_size))\n",
    "        self.position = np.zeros((grid_size,grid_size))\n",
    "        self.malus_position = np.zeros((grid_size,grid_size))\n",
    "\n",
    "        # coordinate of the cat\n",
    "        self.x = 0\n",
    "        self.y = 1\n",
    "\n",
    "        # self time\n",
    "        self.t = 0\n",
    "\n",
    "        self.scale=16\n",
    "\n",
    "        self.to_draw = np.zeros((max_time+2, grid_size*self.scale, grid_size*self.scale, 3))\n",
    "\n",
    "\n",
    "    def draw(self,e):\n",
    "        skvideo.io.vwrite(str(e) + '.mp4', self.to_draw)\n",
    "\n",
    "    def get_frame(self,t):\n",
    "        b = np.zeros((self.grid_size,self.grid_size,3))+128\n",
    "        b[self.board>0,0] = 256\n",
    "        b[self.board < 0, 2] = 256\n",
    "        b[self.x,self.y,:]=256\n",
    "        b[-2:,:,:]=0\n",
    "        b[:,-2:,:]=0\n",
    "        b[:2,:,:]=0\n",
    "        b[:,:2,:]=0\n",
    "        \n",
    "        b =  cv2.resize(b, None, fx=self.scale, fy=self.scale, interpolation=cv2.INTER_NEAREST)\n",
    "\n",
    "        self.to_draw[t,:,:,:]=b\n",
    "\n",
    "\n",
    "    def act(self, action,train=True):\n",
    "        \"\"\"This function returns the new state, reward and decides if the\n",
    "        game ends.\"\"\"\n",
    "\n",
    "        self.get_frame(int(self.t))\n",
    "\n",
    "        self.position = np.zeros((self.grid_size, self.grid_size))\n",
    "\n",
    "        self.position[0:2,:]= -1\n",
    "        self.position[:,0:2] = -1\n",
    "        self.position[-2:, :] = -1\n",
    "        self.position[-2:, :] = -1\n",
    "\n",
    "        self.position[self.x, self.y] = 1\n",
    "        if action == 0:\n",
    "            if self.x == self.grid_size-3:\n",
    "                self.x = self.x-1\n",
    "            else:\n",
    "                self.x = self.x + 1\n",
    "        elif action == 1:\n",
    "            if self.x == 2:\n",
    "                self.x = self.x+1\n",
    "            else:\n",
    "                self.x = self.x-1\n",
    "        elif action == 2:\n",
    "            if self.y == self.grid_size - 3:\n",
    "                self.y = self.y - 1\n",
    "            else:\n",
    "                self.y = self.y + 1\n",
    "        elif action == 3:\n",
    "            if self.y == 2:\n",
    "                self.y = self.y + 1\n",
    "            else:\n",
    "                self.y = self.y - 1\n",
    "        else:\n",
    "            RuntimeError('Error: action not recognized')\n",
    "\n",
    "        self.t = self.t + 1\n",
    "        reward = self.board[self.x, self.y]\n",
    "        if train:\n",
    "            reward = -self.malus_position[self.x, self.y]\n",
    "        self.malus_position[self.x, self.y] = 0.1\n",
    "        self.board[self.x, self.y] = 0\n",
    "        game_over = self.t > self.max_time\n",
    "        state = np.concatenate((self.malus_position.reshape(self.grid_size, self.grid_size,1),\n",
    "                                self.board.reshape(self.grid_size, self.grid_size,1),\n",
    "                        self.position.reshape(self.grid_size, self.grid_size,1)),axis=2)\n",
    "        state = state[self.x-2:self.x+3,self.y-2:self.y+3,:]\n",
    "\n",
    "        return state, reward, game_over\n",
    "\n",
    "    def reset(self):\n",
    "        \"\"\"This function resets the game and returns the initial state\"\"\"\n",
    "\n",
    "        self.x = np.random.randint(3, self.grid_size-3, size=1)[0]\n",
    "        self.y = np.random.randint(3, self.grid_size-3, size=1)[0]\n",
    "        \n",
    "\n",
    "\n",
    "        bonus = 0.5*np.random.binomial(1,self.temperature,size=self.grid_size**2)\n",
    "        bonus = bonus.reshape(self.grid_size,self.grid_size)\n",
    "\n",
    "        malus = -1.0*np.random.binomial(1,self.temperature,size=self.grid_size**2)\n",
    "        malus = malus.reshape(self.grid_size, self.grid_size)\n",
    "\n",
    "        self.to_draw = np.zeros((self.max_time+2, self.grid_size*self.scale, self.grid_size*self.scale, 3))\n",
    "\n",
    "\n",
    "        malus[bonus>0]=0\n",
    "\n",
    "        self.board = bonus + malus\n",
    "\n",
    "        self.position = np.zeros((self.grid_size, self.grid_size))\n",
    "        self.malus_position = np.zeros((self.grid_size,self.grid_size))\n",
    "        \n",
    "        self.position[0:2,:]= -1\n",
    "        self.position[:,0:2] = -1\n",
    "        self.position[-2:, :] = -1\n",
    "        self.position[-2:, :] = -1\n",
    "        self.board[self.x,self.y] = 0\n",
    "        self.malus_position[self.x,self.y]=0.1\n",
    "        self.t = 0\n",
    "        \n",
    "        state = np.concatenate((self.malus_position.reshape(self.grid_size, self.grid_size,1),\n",
    "                                self.board.reshape(self.grid_size, self.grid_size,1),\n",
    "                        self.position.reshape(self.grid_size, self.grid_size,1)),axis=2)\n",
    "\n",
    "        state = state[self.x - 2:self.x + 3, self.y - 2:self.y + 3, :]\n",
    "        return state\n"
   ]
  },
  {
   "cell_type": "code",
   "execution_count": 26,
   "metadata": {
    "scrolled": true
   },
   "outputs": [
    {
     "name": "stdout",
     "output_type": "stream",
     "text": [
      "Epoch 000/050 | Loss 0.0016 | Win/lose count 0/15.299999999999962 (-15.299999999999962)\n",
      "Epoch 001/050 | Loss 0.0011 | Win/lose count 0/13.899999999999967 (-13.899999999999967)\n",
      "Epoch 002/050 | Loss 0.0008 | Win/lose count 0/13.999999999999966 (-13.999999999999966)\n",
      "Epoch 003/050 | Loss 0.0009 | Win/lose count 0/15.099999999999962 (-15.099999999999962)\n",
      "Epoch 004/050 | Loss 0.0004 | Win/lose count 0/16.499999999999964 (-16.499999999999964)\n",
      "Epoch 005/050 | Loss 0.0005 | Win/lose count 0/14.799999999999963 (-14.799999999999963)\n",
      "Epoch 006/050 | Loss 0.0004 | Win/lose count 0/16.19999999999996 (-16.19999999999996)\n",
      "Epoch 007/050 | Loss 0.0006 | Win/lose count 0/15.69999999999996 (-15.69999999999996)\n",
      "Epoch 008/050 | Loss 0.0008 | Win/lose count 0/14.499999999999964 (-14.499999999999964)\n",
      "Epoch 009/050 | Loss 0.0008 | Win/lose count 0/16.699999999999967 (-16.699999999999967)\n",
      "Epoch 010/050 | Loss 0.0005 | Win/lose count 0/16.09999999999996 (-16.09999999999996)\n",
      "Epoch 011/050 | Loss 0.0003 | Win/lose count 0/16.29999999999996 (-16.29999999999996)\n",
      "Epoch 012/050 | Loss 0.0003 | Win/lose count 0/17.799999999999983 (-17.799999999999983)\n",
      "Epoch 013/050 | Loss 0.0005 | Win/lose count 0/17.099999999999973 (-17.099999999999973)\n",
      "Epoch 014/050 | Loss 0.0005 | Win/lose count 0/17.399999999999977 (-17.399999999999977)\n",
      "Epoch 015/050 | Loss 0.0005 | Win/lose count 0/16.19999999999996 (-16.19999999999996)\n",
      "Epoch 016/050 | Loss 0.0004 | Win/lose count 0/16.599999999999966 (-16.599999999999966)\n",
      "Epoch 017/050 | Loss 0.0005 | Win/lose count 0/15.69999999999996 (-15.69999999999996)\n",
      "Epoch 018/050 | Loss 0.0030 | Win/lose count 0/16.699999999999967 (-16.699999999999967)\n",
      "Epoch 019/050 | Loss 0.0004 | Win/lose count 0/17.199999999999974 (-17.199999999999974)\n",
      "Epoch 020/050 | Loss 0.0602 | Win/lose count 0/17.999999999999986 (-17.999999999999986)\n",
      "Epoch 021/050 | Loss 0.0158 | Win/lose count 0/17.59999999999998 (-17.59999999999998)\n",
      "Epoch 022/050 | Loss 0.0003 | Win/lose count 0/17.899999999999984 (-17.899999999999984)\n",
      "Epoch 023/050 | Loss 0.0002 | Win/lose count 0/16.79999999999997 (-16.79999999999997)\n",
      "Epoch 024/050 | Loss 0.0004 | Win/lose count 0/17.999999999999986 (-17.999999999999986)\n",
      "Epoch 025/050 | Loss 0.0003 | Win/lose count 0/17.899999999999984 (-17.899999999999984)\n",
      "Epoch 026/050 | Loss 0.0002 | Win/lose count 0/18.39999999999999 (-18.39999999999999)\n",
      "Epoch 027/050 | Loss 0.0003 | Win/lose count 0/19.0 (-19.0)\n",
      "Epoch 028/050 | Loss 0.0002 | Win/lose count 0/18.9 (-18.9)\n",
      "Epoch 029/050 | Loss 0.0002 | Win/lose count 0/18.799999999999997 (-18.799999999999997)\n",
      "Epoch 030/050 | Loss 0.0002 | Win/lose count 0/17.999999999999986 (-17.999999999999986)\n",
      "Epoch 031/050 | Loss 0.0612 | Win/lose count 0/18.9 (-18.9)\n",
      "Epoch 032/050 | Loss 0.0005 | Win/lose count 0/18.29999999999999 (-18.29999999999999)\n",
      "Epoch 033/050 | Loss 0.0002 | Win/lose count 0/19.1 (-19.1)\n",
      "Epoch 034/050 | Loss 0.0002 | Win/lose count 0/18.9 (-18.9)\n",
      "Epoch 035/050 | Loss 0.0003 | Win/lose count 0/17.399999999999977 (-17.399999999999977)\n",
      "Epoch 036/050 | Loss 0.0002 | Win/lose count 0/19.1 (-19.1)\n",
      "Epoch 037/050 | Loss 0.0002 | Win/lose count 0/18.499999999999993 (-18.499999999999993)\n",
      "Epoch 038/050 | Loss 0.0001 | Win/lose count 0/18.799999999999997 (-18.799999999999997)\n",
      "Epoch 039/050 | Loss 0.0002 | Win/lose count 0/17.49999999999998 (-17.49999999999998)\n",
      "Epoch 040/050 | Loss 0.0002 | Win/lose count 0/18.499999999999993 (-18.499999999999993)\n",
      "Epoch 041/050 | Loss 0.0002 | Win/lose count 0/19.1 (-19.1)\n",
      "Epoch 042/050 | Loss 0.0002 | Win/lose count 0/19.1 (-19.1)\n",
      "Epoch 043/050 | Loss 0.0001 | Win/lose count 0/19.300000000000004 (-19.300000000000004)\n",
      "Epoch 044/050 | Loss 0.0005 | Win/lose count 0/19.0 (-19.0)\n",
      "Epoch 045/050 | Loss 0.0002 | Win/lose count 0/19.0 (-19.0)\n",
      "Epoch 046/050 | Loss 0.0616 | Win/lose count 0/19.1 (-19.1)\n",
      "Epoch 047/050 | Loss 0.0598 | Win/lose count 0/19.300000000000004 (-19.300000000000004)\n",
      "Epoch 048/050 | Loss 0.0002 | Win/lose count 0/19.200000000000003 (-19.200000000000003)\n",
      "Epoch 049/050 | Loss 0.0017 | Win/lose count 0/19.1 (-19.1)\n"
     ]
    },
    {
     "data": {
      "text/html": [
       "<video alt=\"test\" controls>\n",
       "                <source src=\"data:video/mp4;base64,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\" type=\"video/mp4\" />\n",
       "             </video>"
      ],
      "text/plain": [
       "<IPython.core.display.HTML object>"
      ]
     },
     "execution_count": 26,
     "metadata": {},
     "output_type": "execute_result"
    }
   ],
   "source": [
    "# Training\n",
    "env = EnvironmentExploring(grid_size=size, max_time=T, temperature=0.3)\n",
    "agent = DQN_CNN(size, lr=.1, epsilon = 0.1, memory_size=2000, batch_size = 32,n_state=3)\n",
    "train_explore(agent, env, epochs_train, prefix='cnn_train_explore')\n",
    "HTML(display_videos('cnn_train_explore40.mp4'))"
   ]
  },
  {
   "cell_type": "code",
   "execution_count": 27,
   "metadata": {
    "scrolled": false
   },
   "outputs": [
    {
     "name": "stdout",
     "output_type": "stream",
     "text": [
      "Win/lose count 0/19.400000000000006. Average score (-19.400000000000006)\n",
      "Win/lose count 0/19.400000000000006. Average score (-19.400000000000006)\n",
      "Win/lose count 0/19.0. Average score (-19.26666666666667)\n",
      "Win/lose count 0/19.60000000000001. Average score (-19.350000000000005)\n",
      "Win/lose count 0/19.300000000000004. Average score (-19.340000000000003)\n",
      "Win/lose count 0/19.500000000000007. Average score (-19.36666666666667)\n",
      "Win/lose count 0/19.400000000000006. Average score (-19.371428571428574)\n",
      "Win/lose count 0/19.400000000000006. Average score (-19.375000000000004)\n",
      "Win/lose count 0/19.400000000000006. Average score (-19.37777777777778)\n",
      "Win/lose count 0/19.70000000000001. Average score (-19.410000000000004)\n",
      "Final score: -19.410000000000004\n"
     ]
    },
    {
     "data": {
      "text/html": [
       "<video alt=\"test\" controls>\n",
       "                <source src=\"data:video/mp4;base64,AAAAIGZ0eXBpc29tAAACAGlzb21pc28yYXZjMW1wNDEAAAAIZnJlZQAAE8ltZGF0AAACrQYF//+p3EXpvebZSLeWLNgg2SPu73gyNjQgLSBjb3JlIDE1NyByMjkzNSA1NDVkZTJmIC0gSC4yNjQvTVBFRy00IEFWQyBjb2RlYyAtIENvcHlsZWZ0IDIwMDMtMjAxOCAtIGh0dHA6Ly93d3cudmlkZW9sYW4ub3JnL3gyNjQuaHRtbCAtIG9wdGlvbnM6IGNhYmFjPTEgcmVmPTMgZGVibG9jaz0xOjA6MCBhbmFseXNlPTB4MToweDExMSBtZT1oZXggc3VibWU9NyBwc3k9MSBwc3lfcmQ9MS4wMDowLjAwIG1peGVkX3JlZj0xIG1lX3JhbmdlPTE2IGNocm9tYV9tZT0xIHRyZWxsaXM9MSA4eDhkY3Q9MCBjcW09MCBkZWFkem9uZT0yMSwxMSBmYXN0X3Bza2lwPTEgY2hyb21hX3FwX29mZnNldD00IHRocmVhZHM9NiBsb29rYWhlYWRfdGhyZWFkcz0xIHNsaWNlZF90aHJlYWRzPTAgbnI9MCBkZWNpbWF0ZT0xIGludGVybGFjZWQ9MCBibHVyYXlfY29tcGF0PTAgY29uc3RyYWluZWRfaW50cmE9MCBiZnJhbWVzPTMgYl9weXJhbWlkPTIgYl9hZGFwdD0xIGJfYmlhcz0wIGRpcmVjdD0xIHdlaWdodGI9MSBvcGVuX2dvcD0wIHdlaWdodHA9MiBrZXlpbnQ9MjUwIGtleWludF9taW49MjUgc2NlbmVjdXQ9NDAgaW50cmFfcmVmcmVzaD0wIHJjX2xvb2thaGVhZD00MCByYz1jcmYgbWJ0cmVlPTEgY3JmPTIzLjAgcWNvbXA9MC42MCBxcG1pbj0wIHFwbWF4PTY5IHFwc3RlcD00IGlwX3JhdGlvPTEuNDAgYXE9MToxLjAwAIAAAALHZYiEADv//vb8/AptUwn/LZ/+iL/lb+9P2a61uFE7M7QacwPQC/3cd/Xi1bCrc27LcdG8bJkAU3Roif8hrvvgUoqkfgUzWsTF48fEuclbMjPgm4klJlkA9nvLzthMQ7SE7hg1V60GoFtWyf1S1yffa2thkkdsrEWwvxYM4k/oBVFpFWh9d4hVgo+1NkmwYuS4tfHU4D6EqTlgnAUMoh/TCGZsv+3dCWsYVRuMU+lbnRPQfNjELcH8yjBGwaqnnr2D6K8CzS5lt0s4MU2ylvAfcR/DLUTEjkhvoxD7Ml51+9O5JmLLJ0Zz8Z6E4srVOBYoVJPnQ51K6E9CPmZRqUtiA032z7cWeFWLQyLSBjKZsSNSa6jnl6vo6x/6KJe1LW5dTXAXCWNqcos8P/ooYgaWOkIrl+kL/W+TjdSmMX0QAHD/YxcW8tmgWbQ2XxsTL5Mr7vkMeuZx4+vvFdXsaUuhr5ypz5QLxT5sMPGPrtKEGVVcVz+kc7NiF92CdBkiA3lJOrqdS/RNwYZDAI/ocQiQeCJmU80Yqotz02CcSqx1FKGbhwep/dkedyqSAA3lHwgqgPv2r6OIUx5DtI+qRsNP7DNuEXS62AlgFBA5ywJDMqdmnkY4N+nmZwaLGWPCPFTe550xup4BJjx3ltj1yZPOZNqQzYDjmXQjdINZ9DpGGQYJCOZfzYE6mJ67Nc+fSeWkNSpH2maBOBVsP+kfRRPZOzHzOtDp7BAA806BFQKClS57CBXy31Jchon2sEJchGT1X0bOvgBUEYXdshEixZPE2mIF3gsnt+YuasL+KEKrgbYACPlf1Y8aY1CHaQkCI1TWHFcPHDtxhAX22NCyJdxpVu5nubOzOOYQ+KHI5cZTk8VoIp7z62oZ74pXKxYF3V39AAZq3A4597KC2swpd1uM5jGuESKQv12P2Jz1FIPDNlO2K8fmACKhAAAADUGaJGxDv/6plgAAlYAAAAAKQZ5CeIX/AACygQAAAAoBnmF0Qr8AAO6AAAAACgGeY2pCvwAA7oEAAAATQZpoSahBaJlMCHf//qmWAACVgQAAAAxBnoZFESwv/wAAsoEAAAAKAZ6ldEK/AADugQAAAAoBnqdqQr8AAO6AAAAAE0GarEmoQWyZTAh3//6plgAAlYAAAAAMQZ7KRRUsL/8AALKBAAAACgGe6XRCvwAA7oAAAAAKAZ7rakK/AADugAAAABNBmvBJqEFsmUwId//+qZYAAJWBAAAADEGfDkUVLC//AACygQAAAAoBny10Qr8AAO6BAAAACgGfL2pCvwAA7oAAAAATQZs0SahBbJlMCHf//qmWAACVgAAAAAxBn1JFFSwv/wAAsoEAAAAKAZ9xdEK/AADugAAAAAoBn3NqQr8AAO6AAAAAG0GbeEmoQWyZTAh3//6plgCQ/I+h2g6Op5FFwQAAAA9Bn5ZFFSwv/wCsz69q1zQAAAAKAZ+1dEK/AADugQAAAA0Bn7dqQr8A57M+etFxAAAAE0GbvEmoQWyZTAh3//6plgAAlYAAAAAMQZ/aRRUsL/8AALKBAAAACgGf+XRCvwAA7oAAAAAKAZ/7akK/AADugQAAABxBm+BJqEFsmUwId//+qZYAjPyOghnSzo6nkUfBAAAAD0GeHkUVLC//AKgxtytdcAAAAA0Bnj10Qr8A4fCL8tHwAAAACgGeP2pCvwAA7oEAAAATQZokSahBbJlMCHf//qmWAACVgAAAAAxBnkJFFSwv/wAAsoEAAAAKAZ5hdEK/AADugAAAAAoBnmNqQr8AAO6BAAAAE0GaaEmoQWyZTAh3//6plgAAlYEAAAAMQZ6GRRUsL/8AALKBAAAACgGepXRCvwAA7oEAAAAKAZ6nakK/AADugAAAABNBmqxJqEFsmUwId//+qZYAAJWAAAAADEGeykUVLC//AACygQAAAAoBnul0Qr8AAO6AAAAACgGe62pCvwAA7oAAAAAaQZrwSahBbJlMCHf//qmWAIwoJ+K5XV6wBj0AAAAPQZ8ORRUsL/8AqE+vatddAAAACgGfLXRCvwAA7oEAAAANAZ8vakK/AOICuGtHwAAAABNBmzRJqEFsmUwId//+qZYAAJWAAAAADEGfUkUVLC//AACygQAAAAoBn3F0Qr8AAO6AAAAACgGfc2pCvwAA7oAAAAATQZt4SahBbJlMCHf//qmWAACVgQAAAAxBn5ZFFSwv/wAAsoAAAAAKAZ+1dEK/AADugQAAAAoBn7dqQr8AAO6BAAAAGkGbu0moQWyZTAh3//6plgD5JISba6OfUSTgAAAAD0Gf2UUVLCv/AWOx5uE9qQAAAA0Bn/pqQr8BY7Hm4T2oAAAAHEGb/0moQWyZTAh3//6plgOAWG6Iq6qBw/rsb0EAAAAPQZ4dRRUsL/8Boz/Gwh1xAAAADQGePHRCvwIyAd4nWBAAAAAKAZ4+akK/AADugAAAABpBmiNJqEFsmUwId//+qZYD8SyuNQA/8bQDFwAAAA9BnkFFFSwv/wGyjr2WCggAAAAKAZ5gdEK/AADugQAAAA0BnmJqQr8CSMz5uxbQAAAAE0GaZ0moQWyZTAh3//6plgAAlYEAAAAMQZ6FRRUsL/8AALKBAAAACgGepHRCvwAA7oEAAAAKAZ6makK/AADugQAAABNBmqtJqEFsmUwId//+qZYAAJWAAAAADEGeyUUVLC//AACygAAAAAoBnuh0Qr8AAO6BAAAACgGe6mpCvwAA7oAAAAATQZrvSahBbJlMCHf//qmWAACVgAAAAAxBnw1FFSwv/wAAsoEAAAAKAZ8sdEK/AADugQAAAAoBny5qQr8AAO6BAAAAE0GbM0moQWyZTAh3//6plgAAlYAAAAAMQZ9RRRUsL/8AALKAAAAACgGfcHRCvwAA7oEAAAAKAZ9yakK/AADugAAAABtBm3dJqEFsmUwId//+qZYEDpMNfaiwrofBEXAAAAAPQZ+VRRUsL/8BshbcWCghAAAADQGftHRCvwJHwi+bFtAAAAAKAZ+2akK/AADugQAAABtBm7tJqEFsmUwId//+qZYDm6XQY/hagn3AAakAAAAPQZ/ZRRUsL/8Boz1rWCkgAAAADQGf+HRCvwIzImDARsEAAAAKAZ/6akK/AADugAAAABNBm/9JqEFsmUwId//+qZYAAJWBAAAADEGeHUUVLC//AACygQAAAAoBnjx0Qr8AAO6AAAAACgGePmpCvwAA7oAAAAATQZojSahBbJlMCHf//qmWAACVgQAAAAxBnkFFFSwv/wAAsoAAAAAKAZ5gdEK/AADugQAAAAoBnmJqQr8AAO6AAAAAE0GaZ0moQWyZTAh3//6plgAAlYEAAAAMQZ6FRRUsL/8AALKBAAAACgGepHRCvwAA7oEAAAAKAZ6makK/AADugQAAABNBmqtJqEFsmUwId//+qZYAAJWAAAAADEGeyUUVLC//AACygAAAAAoBnuh0Qr8AAO6BAAAACgGe6mpCvwAA7oAAAAAaQZrvSahBbJlMCHf//qmWA36OdaNgP/HWA1IAAAAPQZ8NRRUsL/8Bo552WIcdAAAACgGfLHRCvwAA7oEAAAANAZ8uakK/AjLrecUdMQAAABNBmzNJqEFsmUwId//+qZYAAJWAAAAADEGfUUUVLC//AACygAAAAAoBn3B0Qr8AAO6BAAAACgGfcmpCvwAA7oAAAAATQZt3SahBbJlMCHf//qmWAACVgAAAAAxBn5VFFSwv/wAAsoEAAAAKAZ+0dEK/AADugAAAAAoBn7ZqQr8AAO6BAAAAE0Gbu0moQWyZTAh3//6plgAAlYEAAAAMQZ/ZRRUsL/8AALKAAAAACgGf+HRCvwAA7oEAAAAKAZ/6akK/AADugAAAABNBm/9JqEFsmUwId//+qZYAAJWBAAAADEGeHUUVLC//AACygQAAAAoBnjx0Qr8AAO6AAAAACgGePmpCvwAA7oAAAAATQZojSahBbJlMCHf//qmWAACVgQAAAAxBnkFFFSwv/wAAsoAAAAAKAZ5gdEK/AADugQAAAAoBnmJqQr8AAO6AAAAAGkGaZ0moQWyZTAh3//6plgObo59oth0fGn5BAAAAD0GehUUVLC//AaOfaFiHXQAAAAoBnqR0Qr8AAO6BAAAADQGepmpCvwIySykdYEEAAAAaQZqrSahBbJlMCHf//qmWAPv0Y/FOQpg0raAAAAAPQZ7JRRUsL/8A/s+6bF7UAAAACgGe6HRCvwAA7oEAAAANAZ7qakK/AWNtwJLJwAAAABpBmu9JqEFsmUwId//+qZYAjPx50s6Op5FHwAAAAA9Bnw1FFSwv/wCoT69q110AAAAKAZ8sdEK/AADugQAAAA0Bny5qQr8A4jM+etHxAAAAGkGbM0moQWyZTAh3//6plgDuNISba6OfUSXgAAAAD0GfUUUVLC//APgnNKxe/AAAAAoBn3B0Qr8AAO6BAAAADQGfcmpCvwFasebhPfgAAAAaQZt3SahBbJlMCHf//qmWAPj1PymjH6IgdMAAAAAPQZ+VRRUsL/8A/s87M8cdAAAACgGftHRCvwAA7oAAAAANAZ+2akK/AWNrcNZdwQAAABpBm7tJqEFsmUwId//+qZYDgFhuiKuY+uxvQQAAAA9Bn9lFFSwv/wGjP8bCHXAAAAANAZ/4dEK/AjIB3idYEQAAAAoBn/pqQr8AAO6AAAAAE0Gb/0moQWyZTAh3//6plgAAlYEAAAAMQZ4dRRUsL/8AALKBAAAACgGePHRCvwAA7oAAAAAKAZ4+akK/AADugAAAABNBmiNJqEFsmUwId//+qZYAAJWBAAAADEGeQUUVLC//AACygAAAAAoBnmB0Qr8AAO6BAAAACgGeYmpCvwAA7oAAAAATQZpnSahBbJlMCHf//qmWAACVgQAAAAxBnoVFFSwv/wAAsoEAAAAKAZ6kdEK/AADugQAAAAoBnqZqQr8AAO6BAAAAE0Gaq0moQWyZTAh3//6plgAAlYAAAAAMQZ7JRRUsL/8AALKAAAAACgGe6HRCvwAA7oEAAAAKAZ7qakK/AADugAAAABNBmu9JqEFsmUwId//+qZYAAJWAAAAADEGfDUUVLC//AACygQAAAAoBnyx0Qr8AAO6BAAAACgGfLmpCvwAA7oEAAAATQZszSahBbJlMCHf//qmWAACVgAAAAAxBn1FFFSwv/wAAsoAAAAAKAZ9wdEK/AADugQAAAAoBn3JqQr8AAO6AAAAAE0Gbd0moQWyZTAh3//6plgAAlYAAAAAMQZ+VRRUsL/8AALKBAAAACgGftHRCvwAA7oAAAAAKAZ+2akK/AADugQAAABJBm7tJqEFsmUwIb//+p4QAAScAAAAMQZ/ZRRUsL/8AALKAAAAACgGf+HRCvwAA7oEAAAAKAZ/6akK/AADugAAAABtBm/1JqEFsmUwUTDv//qmWA5ujn2i2HR8afkEAAAANAZ4cakK/AjJLKR1gQQAAABlBmgFJ4QpSZTAhv/6nhAHx6J/a2C3QUraAAAAAD0GeP0U0TC//AP6f7vnesAAAAA0Bnl50Qr8BY05S3HtRAAAACgGeQGpCvwAA7oAAAAAZQZpFSahBaJlMCGf//p4QBDfiHnW6BkhlnQAAAA9BnmNFESwv/wCoMbcrXXAAAAANAZ6CdEK/AOJFQE0soQAAAAoBnoRqQr8AAO6BAAAAGkGaiUuoQhBbJEYIKAfyAf2HgCFf/jhAABFxAAAAI0Gep0UVLC//AgHc6kvbMwq5gOgatahcCUAZaJPC3zKTNJwxAAAACgGexnRCvwAA7oAAAAAgAZ7IakK/Aq9j7UHE3arDSSblqoYHLLW7zSogmixhNwYAAAyAbW9vdgAAAGxtdmhkAAAAAAAAAAAAAAAAAAAD6AAAH5AAAQAAAQAAAAAAAAAAAAAAAAEAAAAAAAAAAAAAAAAAAAABAAAAAAAAAAAAAAAAAABAAAAAAAAAAAAAAAAAAAAAAAAAAAAAAAAAAAAAAAAAAgAAC6p0cmFrAAAAXHRraGQAAAADAAAAAAAAAAAAAAABAAAAAAAAH5AAAAAAAAAAAAAAAAAAAAAAAAEAAAAAAAAAAAAAAAAAAAABAAAAAAAAAAAAAAAAAABAAAAAARAAAAEQAAAAAAAkZWR0cwAAABxlbHN0AAAAAAAAAAEAAB+QAAAEAAABAAAAAAsibWRpYQAAACBtZGhkAAAAAAAAAAAAAAAAAAAyAAABlABVxAAAAAAALWhkbHIAAAAAAAAAAHZpZGUAAAAAAAAAAAAAAABWaWRlb0hhbmRsZXIAAAAKzW1pbmYAAAAUdm1oZAAAAAEAAAAAAAAAAAAAACRkaW5mAAAAHGRyZWYAAAAAAAAAAQAAAAx1cmwgAAAAAQAACo1zdGJsAAAAlXN0c2QAAAAAAAAAAQAAAIVhdmMxAAAAAAAAAAEAAAAAAAAAAAAAAAAAAAAAARABEABIAAAASAAAAAAAAAABAAAAAAAAAAAAAAAAAAAAAAAAAAAAAAAAAAAAAAAAAAAAGP//AAAAL2F2Y0MB9AAN/+EAF2f0AA2RmygiEdCAAAADAIAAABkHihTLAQAFaOvjxEgAAAAYc3R0cwAAAAAAAAABAAAAygAAAgAAAAAUc3RzcwAAAAAAAAABAAAAAQAABlhjdHRzAAAAAAAAAMkAAAABAAAEAAAAAAEAAAoAAAAAAQAABAAAAAABAAAAAAAAAAEAAAIAAAAAAQAACgAAAAABAAAEAAAAAAEAAAAAAAAAAQAAAgAAAAABAAAKAAAAAAEAAAQAAAAAAQAAAAAAAAABAAACAAAAAAEAAAoAAAAAAQAABAAAAAABAAAAAAAAAAEAAAIAAAAAAQAACgAAAAABAAAEAAAAAAEAAAAAAAAAAQAAAgAAAAABAAAKAAAAAAEAAAQAAAAAAQAAAAAAAAABAAACAAAAAAEAAAoAAAAAAQAABAAAAAABAAAAAAAAAAEAAAIAAAAAAQAACgAAAAABAAAEAAAAAAEAAAAAAAAAAQAAAgAAAAABAAAKAAAAAAEAAAQAAAAAAQAAAAAAAAABAAACAAAAAAEAAAoAAAAAAQAABAAAAAABAAAAAAAAAAEAAAIAAAAAAQAACgAAAAABAAAEAAAAAAEAAAAAAAAAAQAAAgAAAAABAAAKAAAAAAEAAAQAAAAAAQAAAAAAAAABAAACAAAAAAEAAAoAAAAAAQAABAAAAAABAAAAAAAAAAEAAAIAAAAAAQAACgAAAAABAAAEAAAAAAEAAAAAAAAAAQAAAgAAAAABAAAIAAAAAAIAAAIAAAAAAQAACgAAAAABAAAEAAAAAAEAAAAAAAAAAQAAAgAAAAABAAAKAAAAAAEAAAQAAAAAAQAAAAAAAAABAAACAAAAAAEAAAoAAAAAAQAABAAAAAABAAAAAAAAAAEAAAIAAAAAAQAACgAAAAABAAAEAAAAAAEAAAAAAAAAAQAAAgAAAAABAAAKAAAAAAEAAAQAAAAAAQAAAAAAAAABAAACAAAAAAEAAAoAAAAAAQAABAAAAAABAAAAAAAAAAEAAAIAAAAAAQAACgAAAAABAAAEAAAAAAEAAAAAAAAAAQAAAgAAAAABAAAKAAAAAAEAAAQAAAAAAQAAAAAAAAABAAACAAAAAAEAAAoAAAAAAQAABAAAAAABAAAAAAAAAAEAAAIAAAAAAQAACgAAAAABAAAEAAAAAAEAAAAAAAAAAQAAAgAAAAABAAAKAAAAAAEAAAQAAAAAAQAAAAAAAAABAAACAAAAAAEAAAoAAAAAAQAABAAAAAABAAAAAAAAAAEAAAIAAAAAAQAACgAAAAABAAAEAAAAAAEAAAAAAAAAAQAAAgAAAAABAAAKAAAAAAEAAAQAAAAAAQAAAAAAAAABAAACAAAAAAEAAAoAAAAAAQAABAAAAAABAAAAAAAAAAEAAAIAAAAAAQAACgAAAAABAAAEAAAAAAEAAAAAAAAAAQAAAgAAAAABAAAKAAAAAAEAAAQAAAAAAQAAAAAAAAABAAACAAAAAAEAAAoAAAAAAQAABAAAAAABAAAAAAAAAAEAAAIAAAAAAQAACgAAAAABAAAEAAAAAAEAAAAAAAAAAQAAAgAAAAABAAAKAAAAAAEAAAQAAAAAAQAAAAAAAAABAAACAAAAAAEAAAoAAAAAAQAABAAAAAABAAAAAAAAAAEAAAIAAAAAAQAACgAAAAABAAAEAAAAAAEAAAAAAAAAAQAAAgAAAAABAAAKAAAAAAEAAAQAAAAAAQAAAAAAAAABAAACAAAAAAEAAAoAAAAAAQAABAAAAAABAAAAAAAAAAEAAAIAAAAAAQAACgAAAAABAAAEAAAAAAEAAAAAAAAAAQAAAgAAAAABAAAKAAAAAAEAAAQAAAAAAQAAAAAAAAABAAACAAAAAAEAAAoAAAAAAQAABAAAAAABAAAAAAAAAAEAAAIAAAAAAQAACgAAAAABAAAEAAAAAAEAAAAAAAAAAQAAAgAAAAABAAAKAAAAAAEAAAQAAAAAAQAAAAAAAAABAAACAAAAAAEAAAoAAAAAAQAABAAAAAABAAAAAAAAAAEAAAIAAAAAAQAACgAAAAABAAAEAAAAAAEAAAAAAAAAAQAAAgAAAAABAAAKAAAAAAEAAAQAAAAAAQAAAAAAAAABAAACAAAAAAEAAAYAAAAAAQAAAgAAAAABAAAKAAAAAAEAAAQAAAAAAQAAAAAAAAABAAACAAAAAAEAAAoAAAAAAQAABAAAAAABAAAAAAAAAAEAAAIAAAAAAQAACgAAAAABAAAEAAAAAAEAAAAAAAAAAQAAAgAAAAAcc3RzYwAAAAAAAAABAAAAAQAAAMoAAAABAAADPHN0c3oAAAAAAAAAAAAAAMoAAAV8AAAAEQAAAA4AAAAOAAAADgAAABcAAAAQAAAADgAAAA4AAAAXAAAAEAAAAA4AAAAOAAAAFwAAABAAAAAOAAAADgAAABcAAAAQAAAADgAAAA4AAAAfAAAAEwAAAA4AAAARAAAAFwAAABAAAAAOAAAADgAAACAAAAATAAAAEQAAAA4AAAAXAAAAEAAAAA4AAAAOAAAAFwAAABAAAAAOAAAADgAAABcAAAAQAAAADgAAAA4AAAAeAAAAEwAAAA4AAAARAAAAFwAAABAAAAAOAAAADgAAABcAAAAQAAAADgAAAA4AAAAeAAAAEwAAABEAAAAgAAAAEwAAABEAAAAOAAAAHgAAABMAAAAOAAAAEQAAABcAAAAQAAAADgAAAA4AAAAXAAAAEAAAAA4AAAAOAAAAFwAAABAAAAAOAAAADgAAABcAAAAQAAAADgAAAA4AAAAfAAAAEwAAABEAAAAOAAAAHwAAABMAAAARAAAADgAAABcAAAAQAAAADgAAAA4AAAAXAAAAEAAAAA4AAAAOAAAAFwAAABAAAAAOAAAADgAAABcAAAAQAAAADgAAAA4AAAAeAAAAEwAAAA4AAAARAAAAFwAAABAAAAAOAAAADgAAABcAAAAQAAAADgAAAA4AAAAXAAAAEAAAAA4AAAAOAAAAFwAAABAAAAAOAAAADgAAABcAAAAQAAAADgAAAA4AAAAeAAAAEwAAAA4AAAARAAAAHgAAABMAAAAOAAAAEQAAAB4AAAATAAAADgAAABEAAAAeAAAAEwAAAA4AAAARAAAAHgAAABMAAAAOAAAAEQAAAB4AAAATAAAAEQAAAA4AAAAXAAAAEAAAAA4AAAAOAAAAFwAAABAAAAAOAAAADgAAABcAAAAQAAAADgAAAA4AAAAXAAAAEAAAAA4AAAAOAAAAFwAAABAAAAAOAAAADgAAABcAAAAQAAAADgAAAA4AAAAXAAAAEAAAAA4AAAAOAAAAFgAAABAAAAAOAAAADgAAAB8AAAARAAAAHQAAABMAAAARAAAADgAAAB0AAAATAAAAEQAAAA4AAAAeAAAAJwAAAA4AAAAkAAAAFHN0Y28AAAAAAAAAAQAAADAAAABidWR0YQAAAFptZXRhAAAAAAAAACFoZGxyAAAAAAAAAABtZGlyYXBwbAAAAAAAAAAAAAAAAC1pbHN0AAAAJal0b28AAAAdZGF0YQAAAAEAAAAATGF2ZjU4LjIwLjEwMA==\" type=\"video/mp4\" />\n",
       "             </video>"
      ],
      "text/plain": [
       "<IPython.core.display.HTML object>"
      ]
     },
     "execution_count": 27,
     "metadata": {},
     "output_type": "execute_result"
    }
   ],
   "source": [
    "# Evaluation\n",
    "test(agent,env,epochs_test,prefix='cnn_test_explore')\n",
    "HTML(display_videos('cnn_test_explore0.mp4'))"
   ]
  },
  {
   "cell_type": "markdown",
   "metadata": {},
   "source": [
    "***\n",
    "***\n",
    "__BONUS question__ Use the expert DQN from the previous question to generate some winning games. Train a model that mimicks its behavior. Compare the performances."
   ]
  },
  {
   "cell_type": "markdown",
   "metadata": {},
   "source": []
  },
  {
   "cell_type": "markdown",
   "metadata": {},
   "source": [
    "***"
   ]
  }
 ],
 "metadata": {
  "kernelspec": {
   "display_name": "Python 3",
   "language": "python",
   "name": "python3"
  },
  "language_info": {
   "codemirror_mode": {
    "name": "ipython",
    "version": 3
   },
   "file_extension": ".py",
   "mimetype": "text/x-python",
   "name": "python",
   "nbconvert_exporter": "python",
   "pygments_lexer": "ipython3",
   "version": "3.7.0"
  }
 },
 "nbformat": 4,
 "nbformat_minor": 2
}
